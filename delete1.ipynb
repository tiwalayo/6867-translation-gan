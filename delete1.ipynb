{
 "cells": [
  {
   "cell_type": "code",
   "execution_count": 108,
   "metadata": {},
   "outputs": [
    {
     "name": "stdout",
     "output_type": "stream",
     "text": [
      "The autoreload extension is already loaded. To reload it, use:\n",
      "  %reload_ext autoreload\n"
     ]
    }
   ],
   "source": [
    "%load_ext autoreload\n",
    "%autoreload 2\n",
    "%aimport models\n",
    "\n",
    "import models\n",
    "from models import DEN\n",
    "\n",
    "import data_processors.utils\n",
    "from data_processors.data_ops import Alphabet\n",
    "\n",
    "\n",
    "import torch"
   ]
  },
  {
   "cell_type": "code",
   "execution_count": 7,
   "metadata": {},
   "outputs": [],
   "source": [
    "predictor_model = 'RNNClassifier'\n",
    "saved_predictor = 'saved_ml_data/saved_models/rnn_classifier_1'\n",
    "rnn_model = models.model_catalog[predictor_model].load(saved_predictor)"
   ]
  },
  {
   "cell_type": "code",
   "execution_count": 8,
   "metadata": {},
   "outputs": [],
   "source": [
    "WILDTYPE = \"MAADGYLPDWLEDNLSEGIREWWALKPGAPQPKANQQHQDNARGLVLPGYKYLGPGNGLDKGEPVNAADAAALEHDKAYDQQLKAGDNPYLKYNHADAEFQERLKEDTSFGGNLGRAVFQAKKRLLEPLGLVEEAAKTAPGKKRPVEQSPQEPDSSAGIGKSGAQPAKKRLNFGQTGDTESVPDPQPIGEPPAAPSGVGSLTMASGGGAPVADNNEGADGVGSSSGNWHCDSQWLGDRVITTSTRTWALPTYNNHLYKQISNSTSGGSSNDNAYFGYSTPWGYFDFNRFHCHFSPRDWQRLINNNWGFRPKRLNFKLFNIQVKEVTDNNGVKTIANNLTSTVQVFTDSDYQLPYVLGSAHEGCLPPFPADVFMIPQYGYLTLNDGSQAVGRSSFYCLEYFPSQMLRTGNNFQFSYEFENVPFHSSYAHSQSLDRLMNPLIDQYLYYLSKTINGSGQNQQTLKFSVAGPSNMAVQGRNYIPGPSYRQQRVSTTVTQNNNSEFAWPGASSWALNGRNSLMNPGPAMASHKEGEDRFFPLSGSLIFGKQGTGRDNVDADKVMITNEEEIKTTNPVATESYGQVATNHQSAQAQAQTGWVQNQGILPGMVWQDRDVYLQGPIWAKIPHTDGNFHPSPLMGGFGMKHPPPQILIKNTPVPADPPTAFNKDKLNSFITQYSTGQVSVEIEWELQKENSKRWNPEIQYTSNYYKSNNVEFAVNTEGVYSEPRPIGTRYLTRNL\"\n",
    "WILDTYPE_2 = WILDTYPE[430:430+54]"
   ]
  },
  {
   "cell_type": "code",
   "execution_count": 248,
   "metadata": {},
   "outputs": [],
   "source": [
    "den = DEN.DEN(seq_length=len(WILDTYPE),\n",
    "              tile_scheme={2:(438, 472)},\n",
    "              batch_size=10, latent_size=2, intermediate_size=250, dropout=0.01,\n",
    "              predictor=rnn_model.predict,\n",
    "              wt=WILDTYPE,\n",
    "              k=10,\n",
    "              opts={\"lr\": 0.0001,\n",
    "                    \"weights\": [-2, 0, 0, 1]}\n",
    "             )\n",
    "#438:472 is the L7 hackathon tile"
   ]
  },
  {
   "cell_type": "code",
   "execution_count": 399,
   "metadata": {},
   "outputs": [
    {
     "name": "stdout",
     "output_type": "stream",
     "text": [
      "[1,  2000] loss: 894.671\n",
      "[1,  4000] loss: 894.574\n"
     ]
    },
    {
     "ename": "KeyboardInterrupt",
     "evalue": "",
     "output_type": "error",
     "traceback": [
      "\u001b[0;31m---------------------------------------------------------------------------\u001b[0m",
      "\u001b[0;31mKeyboardInterrupt\u001b[0m                         Traceback (most recent call last)",
      "\u001b[0;32m<ipython-input-399-bd06faa55599>\u001b[0m in \u001b[0;36m<module>\u001b[0;34m\u001b[0m\n\u001b[1;32m      4\u001b[0m     \u001b[0mrunning_loss\u001b[0m \u001b[0;34m=\u001b[0m \u001b[0;36m0.0\u001b[0m\u001b[0;34m\u001b[0m\u001b[0;34m\u001b[0m\u001b[0m\n\u001b[1;32m      5\u001b[0m     \u001b[0;32mfor\u001b[0m \u001b[0mi\u001b[0m \u001b[0;32min\u001b[0m \u001b[0mrange\u001b[0m\u001b[0;34m(\u001b[0m\u001b[0;36m6000\u001b[0m\u001b[0;34m)\u001b[0m\u001b[0;34m:\u001b[0m\u001b[0;34m\u001b[0m\u001b[0;34m\u001b[0m\u001b[0m\n\u001b[0;32m----> 6\u001b[0;31m         \u001b[0mden\u001b[0m\u001b[0;34m.\u001b[0m\u001b[0mlearn\u001b[0m\u001b[0;34m(\u001b[0m\u001b[0;36m2\u001b[0m\u001b[0;34m)\u001b[0m\u001b[0;34m\u001b[0m\u001b[0;34m\u001b[0m\u001b[0m\n\u001b[0m\u001b[1;32m      7\u001b[0m         \u001b[0mrunning_loss\u001b[0m \u001b[0;34m+=\u001b[0m \u001b[0mden\u001b[0m\u001b[0;34m.\u001b[0m\u001b[0mlast_loss\u001b[0m\u001b[0;34m\u001b[0m\u001b[0;34m\u001b[0m\u001b[0m\n\u001b[1;32m      8\u001b[0m         \u001b[0mhist\u001b[0m\u001b[0;34m.\u001b[0m\u001b[0mappend\u001b[0m\u001b[0;34m(\u001b[0m\u001b[0;34m[\u001b[0m\u001b[0mi\u001b[0m\u001b[0;34m.\u001b[0m\u001b[0mitem\u001b[0m\u001b[0;34m(\u001b[0m\u001b[0;34m)\u001b[0m \u001b[0;32mfor\u001b[0m \u001b[0mi\u001b[0m \u001b[0;32min\u001b[0m \u001b[0mden\u001b[0m\u001b[0;34m.\u001b[0m\u001b[0mloss_terms\u001b[0m\u001b[0;34m]\u001b[0m\u001b[0;34m)\u001b[0m\u001b[0;34m\u001b[0m\u001b[0;34m\u001b[0m\u001b[0m\n",
      "\u001b[0;32m/home/jovyan/dyno/dyno/ml/models/DEN.py\u001b[0m in \u001b[0;36mlearn\u001b[0;34m(self, tile)\u001b[0m\n\u001b[1;32m    190\u001b[0m     \u001b[0;32mdef\u001b[0m \u001b[0mlearn\u001b[0m\u001b[0;34m(\u001b[0m\u001b[0mself\u001b[0m\u001b[0;34m,\u001b[0m \u001b[0mtile\u001b[0m\u001b[0;34m)\u001b[0m\u001b[0;34m:\u001b[0m\u001b[0;34m\u001b[0m\u001b[0;34m\u001b[0m\u001b[0m\n\u001b[1;32m    191\u001b[0m         \u001b[0mself\u001b[0m\u001b[0;34m.\u001b[0m\u001b[0moptimizer\u001b[0m\u001b[0;34m.\u001b[0m\u001b[0mzero_grad\u001b[0m\u001b[0;34m(\u001b[0m\u001b[0;34m)\u001b[0m\u001b[0;34m\u001b[0m\u001b[0;34m\u001b[0m\u001b[0m\n\u001b[0;32m--> 192\u001b[0;31m         \u001b[0mloss\u001b[0m \u001b[0;34m=\u001b[0m \u001b[0mself\u001b[0m\u001b[0;34m.\u001b[0m\u001b[0mgetLoss\u001b[0m\u001b[0;34m(\u001b[0m\u001b[0mtile\u001b[0m\u001b[0;34m)\u001b[0m\u001b[0;34m\u001b[0m\u001b[0;34m\u001b[0m\u001b[0m\n\u001b[0m\u001b[1;32m    193\u001b[0m         \u001b[0mloss\u001b[0m\u001b[0;34m.\u001b[0m\u001b[0mbackward\u001b[0m\u001b[0;34m(\u001b[0m\u001b[0;34m)\u001b[0m\u001b[0;34m\u001b[0m\u001b[0;34m\u001b[0m\u001b[0m\n\u001b[1;32m    194\u001b[0m         \u001b[0mself\u001b[0m\u001b[0;34m.\u001b[0m\u001b[0moptimizer\u001b[0m\u001b[0;34m.\u001b[0m\u001b[0mstep\u001b[0m\u001b[0;34m(\u001b[0m\u001b[0;34m)\u001b[0m\u001b[0;34m\u001b[0m\u001b[0;34m\u001b[0m\u001b[0m\n",
      "\u001b[0;32m/home/jovyan/dyno/dyno/ml/models/DEN.py\u001b[0m in \u001b[0;36mgetLoss\u001b[0;34m(self, tile)\u001b[0m\n\u001b[1;32m    157\u001b[0m \u001b[0;34m\u001b[0m\u001b[0m\n\u001b[1;32m    158\u001b[0m             \u001b[0;31m# fitness (to be max'd)\u001b[0m\u001b[0;34m\u001b[0m\u001b[0;34m\u001b[0m\u001b[0;34m\u001b[0m\u001b[0m\n\u001b[0;32m--> 159\u001b[0;31m             \u001b[0mfitness\u001b[0m \u001b[0;34m=\u001b[0m \u001b[0mfitness\u001b[0m \u001b[0;34m+\u001b[0m \u001b[0mself\u001b[0m\u001b[0;34m.\u001b[0m\u001b[0mquery\u001b[0m\u001b[0;34m(\u001b[0m\u001b[0ms2\u001b[0m\u001b[0;34m,\u001b[0m \u001b[0mtile\u001b[0m\u001b[0;34m=\u001b[0m\u001b[0mtile\u001b[0m\u001b[0;34m)\u001b[0m\u001b[0;34m\u001b[0m\u001b[0;34m\u001b[0m\u001b[0m\n\u001b[0m\u001b[1;32m    160\u001b[0m \u001b[0;34m\u001b[0m\u001b[0m\n\u001b[1;32m    161\u001b[0m             \u001b[0;31m# gap loss (to be min'd)\u001b[0m\u001b[0;34m\u001b[0m\u001b[0;34m\u001b[0m\u001b[0;34m\u001b[0m\u001b[0m\n",
      "\u001b[0;32m/home/jovyan/dyno/dyno/ml/models/DEN.py\u001b[0m in \u001b[0;36mquery\u001b[0;34m(self, seqs, tile)\u001b[0m\n\u001b[1;32m    200\u001b[0m \u001b[0;34m\u001b[0m\u001b[0m\n\u001b[1;32m    201\u001b[0m     \u001b[0;32mdef\u001b[0m \u001b[0mquery\u001b[0m\u001b[0;34m(\u001b[0m\u001b[0mself\u001b[0m\u001b[0;34m,\u001b[0m \u001b[0mseqs\u001b[0m\u001b[0;34m,\u001b[0m \u001b[0mtile\u001b[0m\u001b[0;34m=\u001b[0m\u001b[0;36m1\u001b[0m\u001b[0;34m)\u001b[0m\u001b[0;34m:\u001b[0m\u001b[0;34m\u001b[0m\u001b[0;34m\u001b[0m\u001b[0m\n\u001b[0;32m--> 202\u001b[0;31m         \u001b[0;32mreturn\u001b[0m \u001b[0msum\u001b[0m\u001b[0;34m(\u001b[0m\u001b[0mself\u001b[0m\u001b[0;34m.\u001b[0m\u001b[0mpredictor\u001b[0m\u001b[0;34m(\u001b[0m\u001b[0mseq\u001b[0m\u001b[0;34m)\u001b[0m \u001b[0;32mfor\u001b[0m \u001b[0mseq\u001b[0m \u001b[0;32min\u001b[0m \u001b[0mself\u001b[0m\u001b[0;34m.\u001b[0m\u001b[0mseq2string\u001b[0m\u001b[0;34m(\u001b[0m\u001b[0mseqs\u001b[0m\u001b[0;34m)\u001b[0m\u001b[0;34m)\u001b[0m\u001b[0;34m\u001b[0m\u001b[0;34m\u001b[0m\u001b[0m\n\u001b[0m\u001b[1;32m    203\u001b[0m \u001b[0;34m\u001b[0m\u001b[0m\n\u001b[1;32m    204\u001b[0m     \u001b[0;32mdef\u001b[0m \u001b[0mgenerate\u001b[0m\u001b[0;34m(\u001b[0m\u001b[0mself\u001b[0m\u001b[0;34m,\u001b[0m \u001b[0mtile\u001b[0m\u001b[0;34m)\u001b[0m\u001b[0;34m:\u001b[0m\u001b[0;34m\u001b[0m\u001b[0;34m\u001b[0m\u001b[0m\n",
      "\u001b[0;32m/home/jovyan/dyno/dyno/ml/models/DEN.py\u001b[0m in \u001b[0;36m<genexpr>\u001b[0;34m(.0)\u001b[0m\n\u001b[1;32m    200\u001b[0m \u001b[0;34m\u001b[0m\u001b[0m\n\u001b[1;32m    201\u001b[0m     \u001b[0;32mdef\u001b[0m \u001b[0mquery\u001b[0m\u001b[0;34m(\u001b[0m\u001b[0mself\u001b[0m\u001b[0;34m,\u001b[0m \u001b[0mseqs\u001b[0m\u001b[0;34m,\u001b[0m \u001b[0mtile\u001b[0m\u001b[0;34m=\u001b[0m\u001b[0;36m1\u001b[0m\u001b[0;34m)\u001b[0m\u001b[0;34m:\u001b[0m\u001b[0;34m\u001b[0m\u001b[0;34m\u001b[0m\u001b[0m\n\u001b[0;32m--> 202\u001b[0;31m         \u001b[0;32mreturn\u001b[0m \u001b[0msum\u001b[0m\u001b[0;34m(\u001b[0m\u001b[0mself\u001b[0m\u001b[0;34m.\u001b[0m\u001b[0mpredictor\u001b[0m\u001b[0;34m(\u001b[0m\u001b[0mseq\u001b[0m\u001b[0;34m)\u001b[0m \u001b[0;32mfor\u001b[0m \u001b[0mseq\u001b[0m \u001b[0;32min\u001b[0m \u001b[0mself\u001b[0m\u001b[0;34m.\u001b[0m\u001b[0mseq2string\u001b[0m\u001b[0;34m(\u001b[0m\u001b[0mseqs\u001b[0m\u001b[0;34m)\u001b[0m\u001b[0;34m)\u001b[0m\u001b[0;34m\u001b[0m\u001b[0;34m\u001b[0m\u001b[0m\n\u001b[0m\u001b[1;32m    203\u001b[0m \u001b[0;34m\u001b[0m\u001b[0m\n\u001b[1;32m    204\u001b[0m     \u001b[0;32mdef\u001b[0m \u001b[0mgenerate\u001b[0m\u001b[0;34m(\u001b[0m\u001b[0mself\u001b[0m\u001b[0;34m,\u001b[0m \u001b[0mtile\u001b[0m\u001b[0;34m)\u001b[0m\u001b[0;34m:\u001b[0m\u001b[0;34m\u001b[0m\u001b[0;34m\u001b[0m\u001b[0m\n",
      "\u001b[0;32m<ipython-input-286-cfde7f7483ed>\u001b[0m in \u001b[0;36msplice_n_pred\u001b[0;34m(seq)\u001b[0m\n\u001b[1;32m      2\u001b[0m     \u001b[0mINP\u001b[0m \u001b[0;34m=\u001b[0m \u001b[0mWILDTYPE_2\u001b[0m\u001b[0;34m[\u001b[0m\u001b[0;34m:\u001b[0m\u001b[0;36m8\u001b[0m\u001b[0;34m]\u001b[0m \u001b[0;34m+\u001b[0m \u001b[0mseq\u001b[0m \u001b[0;34m+\u001b[0m \u001b[0mWILDTYPE_2\u001b[0m\u001b[0;34m[\u001b[0m\u001b[0;36m42\u001b[0m\u001b[0;34m:\u001b[0m\u001b[0;34m]\u001b[0m\u001b[0;34m\u001b[0m\u001b[0;34m\u001b[0m\u001b[0m\n\u001b[1;32m      3\u001b[0m     \u001b[0minds\u001b[0m \u001b[0;34m=\u001b[0m \u001b[0mdata_processors\u001b[0m\u001b[0;34m.\u001b[0m\u001b[0mutils\u001b[0m\u001b[0;34m.\u001b[0m\u001b[0mseq_to_ind\u001b[0m\u001b[0;34m(\u001b[0m\u001b[0mINP\u001b[0m\u001b[0;34m.\u001b[0m\u001b[0mreplace\u001b[0m\u001b[0;34m(\u001b[0m\u001b[0;34m'-'\u001b[0m\u001b[0;34m,\u001b[0m \u001b[0;34m''\u001b[0m\u001b[0;34m)\u001b[0m\u001b[0;34m,\u001b[0m \u001b[0mAlphabet\u001b[0m\u001b[0;34m(\u001b[0m\u001b[0;34m)\u001b[0m\u001b[0;34m.\u001b[0m\u001b[0mchars\u001b[0m\u001b[0;34m)\u001b[0m\u001b[0;34m\u001b[0m\u001b[0;34m\u001b[0m\u001b[0m\n\u001b[0;32m----> 4\u001b[0;31m     \u001b[0;32mreturn\u001b[0m \u001b[0mrnn_model\u001b[0m\u001b[0;34m.\u001b[0m\u001b[0mpredict\u001b[0m\u001b[0;34m(\u001b[0m\u001b[0;34m[\u001b[0m\u001b[0minds\u001b[0m\u001b[0;34m]\u001b[0m\u001b[0;34m*\u001b[0m\u001b[0;36m2\u001b[0m\u001b[0;34m)\u001b[0m\u001b[0;34m[\u001b[0m\u001b[0;36m0\u001b[0m\u001b[0;34m]\u001b[0m\u001b[0;34m\u001b[0m\u001b[0;34m\u001b[0m\u001b[0m\n\u001b[0m\u001b[1;32m      5\u001b[0m \u001b[0;34m\u001b[0m\u001b[0m\n",
      "\u001b[0;32m/home/jovyan/dyno/dyno/ml/models/rnn_classifier.py\u001b[0m in \u001b[0;36mpredict\u001b[0;34m(self, X)\u001b[0m\n\u001b[1;32m    226\u001b[0m         \u001b[0;31m# pass in regular sequences\u001b[0m\u001b[0;34m\u001b[0m\u001b[0;34m\u001b[0m\u001b[0;34m\u001b[0m\u001b[0m\n\u001b[1;32m    227\u001b[0m         \u001b[0mbatchX\u001b[0m\u001b[0;34m,\u001b[0m \u001b[0mbatchY\u001b[0m\u001b[0;34m,\u001b[0m \u001b[0msorted_inds\u001b[0m \u001b[0;34m=\u001b[0m \u001b[0mget_packed_batch\u001b[0m\u001b[0;34m(\u001b[0m\u001b[0mX\u001b[0m\u001b[0;34m)\u001b[0m\u001b[0;34m\u001b[0m\u001b[0;34m\u001b[0m\u001b[0m\n\u001b[0;32m--> 228\u001b[0;31m         \u001b[0mlogits\u001b[0m \u001b[0;34m=\u001b[0m \u001b[0mself\u001b[0m\u001b[0;34m.\u001b[0m\u001b[0mmodel\u001b[0m\u001b[0;34m(\u001b[0m\u001b[0mbatchX\u001b[0m\u001b[0;34m)\u001b[0m\u001b[0;34m.\u001b[0m\u001b[0msqueeze\u001b[0m\u001b[0;34m(\u001b[0m\u001b[0;34m)\u001b[0m\u001b[0;34m.\u001b[0m\u001b[0mdetach\u001b[0m\u001b[0;34m(\u001b[0m\u001b[0;34m)\u001b[0m\u001b[0;34m\u001b[0m\u001b[0;34m\u001b[0m\u001b[0m\n\u001b[0m\u001b[1;32m    229\u001b[0m         \u001b[0mpreds\u001b[0m \u001b[0;34m=\u001b[0m \u001b[0mtorch\u001b[0m\u001b[0;34m.\u001b[0m\u001b[0msigmoid\u001b[0m\u001b[0;34m(\u001b[0m\u001b[0mlogits\u001b[0m\u001b[0;34m)\u001b[0m\u001b[0;34m.\u001b[0m\u001b[0mcpu\u001b[0m\u001b[0;34m(\u001b[0m\u001b[0;34m)\u001b[0m\u001b[0;34m.\u001b[0m\u001b[0mnumpy\u001b[0m\u001b[0;34m(\u001b[0m\u001b[0;34m)\u001b[0m\u001b[0;34m\u001b[0m\u001b[0;34m\u001b[0m\u001b[0m\n\u001b[1;32m    230\u001b[0m \u001b[0;34m\u001b[0m\u001b[0m\n",
      "\u001b[0;32m/usr/local/lib/python3.7/dist-packages/torch/nn/modules/module.py\u001b[0m in \u001b[0;36m__call__\u001b[0;34m(self, *input, **kwargs)\u001b[0m\n\u001b[1;32m    548\u001b[0m             \u001b[0mresult\u001b[0m \u001b[0;34m=\u001b[0m \u001b[0mself\u001b[0m\u001b[0;34m.\u001b[0m\u001b[0m_slow_forward\u001b[0m\u001b[0;34m(\u001b[0m\u001b[0;34m*\u001b[0m\u001b[0minput\u001b[0m\u001b[0;34m,\u001b[0m \u001b[0;34m**\u001b[0m\u001b[0mkwargs\u001b[0m\u001b[0;34m)\u001b[0m\u001b[0;34m\u001b[0m\u001b[0;34m\u001b[0m\u001b[0m\n\u001b[1;32m    549\u001b[0m         \u001b[0;32melse\u001b[0m\u001b[0;34m:\u001b[0m\u001b[0;34m\u001b[0m\u001b[0;34m\u001b[0m\u001b[0m\n\u001b[0;32m--> 550\u001b[0;31m             \u001b[0mresult\u001b[0m \u001b[0;34m=\u001b[0m \u001b[0mself\u001b[0m\u001b[0;34m.\u001b[0m\u001b[0mforward\u001b[0m\u001b[0;34m(\u001b[0m\u001b[0;34m*\u001b[0m\u001b[0minput\u001b[0m\u001b[0;34m,\u001b[0m \u001b[0;34m**\u001b[0m\u001b[0mkwargs\u001b[0m\u001b[0;34m)\u001b[0m\u001b[0;34m\u001b[0m\u001b[0;34m\u001b[0m\u001b[0m\n\u001b[0m\u001b[1;32m    551\u001b[0m         \u001b[0;32mfor\u001b[0m \u001b[0mhook\u001b[0m \u001b[0;32min\u001b[0m \u001b[0mself\u001b[0m\u001b[0;34m.\u001b[0m\u001b[0m_forward_hooks\u001b[0m\u001b[0;34m.\u001b[0m\u001b[0mvalues\u001b[0m\u001b[0;34m(\u001b[0m\u001b[0;34m)\u001b[0m\u001b[0;34m:\u001b[0m\u001b[0;34m\u001b[0m\u001b[0;34m\u001b[0m\u001b[0m\n\u001b[1;32m    552\u001b[0m             \u001b[0mhook_result\u001b[0m \u001b[0;34m=\u001b[0m \u001b[0mhook\u001b[0m\u001b[0;34m(\u001b[0m\u001b[0mself\u001b[0m\u001b[0;34m,\u001b[0m \u001b[0minput\u001b[0m\u001b[0;34m,\u001b[0m \u001b[0mresult\u001b[0m\u001b[0;34m)\u001b[0m\u001b[0;34m\u001b[0m\u001b[0;34m\u001b[0m\u001b[0m\n",
      "\u001b[0;32m/home/jovyan/dyno/dyno/ml/models/rnn_classifier.py\u001b[0m in \u001b[0;36mforward\u001b[0;34m(self, input)\u001b[0m\n\u001b[1;32m    276\u001b[0m         \"\"\"\n\u001b[1;32m    277\u001b[0m         \u001b[0mhidden\u001b[0m \u001b[0;34m=\u001b[0m \u001b[0mself\u001b[0m\u001b[0;34m.\u001b[0m\u001b[0mfinal_layer_embedding\u001b[0m\u001b[0;34m(\u001b[0m\u001b[0minput\u001b[0m\u001b[0;34m)\u001b[0m\u001b[0;34m\u001b[0m\u001b[0;34m\u001b[0m\u001b[0m\n\u001b[0;32m--> 278\u001b[0;31m         \u001b[0mscore\u001b[0m \u001b[0;34m=\u001b[0m \u001b[0mself\u001b[0m\u001b[0;34m.\u001b[0m\u001b[0mscore\u001b[0m\u001b[0;34m(\u001b[0m\u001b[0mhidden\u001b[0m\u001b[0;34m)\u001b[0m\u001b[0;34m\u001b[0m\u001b[0;34m\u001b[0m\u001b[0m\n\u001b[0m\u001b[1;32m    279\u001b[0m         \u001b[0;32mreturn\u001b[0m \u001b[0mscore\u001b[0m\u001b[0;34m\u001b[0m\u001b[0;34m\u001b[0m\u001b[0m\n\u001b[1;32m    280\u001b[0m \u001b[0;34m\u001b[0m\u001b[0m\n",
      "\u001b[0;32m/home/jovyan/dyno/dyno/ml/models/rnn_classifier.py\u001b[0m in \u001b[0;36mscore\u001b[0;34m(self, hidden)\u001b[0m\n\u001b[1;32m    309\u001b[0m         \u001b[0marray\u001b[0m \u001b[0mof\u001b[0m \u001b[0mscores\u001b[0m\u001b[0;34m.\u001b[0m\u001b[0;34m\u001b[0m\u001b[0;34m\u001b[0m\u001b[0m\n\u001b[1;32m    310\u001b[0m         \"\"\"\n\u001b[0;32m--> 311\u001b[0;31m         \u001b[0;32mreturn\u001b[0m \u001b[0mself\u001b[0m\u001b[0;34m.\u001b[0m\u001b[0mfc\u001b[0m\u001b[0;34m(\u001b[0m\u001b[0mhidden\u001b[0m\u001b[0;34m)\u001b[0m\u001b[0;34m\u001b[0m\u001b[0;34m\u001b[0m\u001b[0m\n\u001b[0m\u001b[1;32m    312\u001b[0m \u001b[0;34m\u001b[0m\u001b[0m\n\u001b[1;32m    313\u001b[0m     \u001b[0;32mdef\u001b[0m \u001b[0minitHidden\u001b[0m\u001b[0;34m(\u001b[0m\u001b[0mself\u001b[0m\u001b[0;34m,\u001b[0m \u001b[0mb_size\u001b[0m\u001b[0;34m=\u001b[0m\u001b[0;36m1\u001b[0m\u001b[0;34m)\u001b[0m\u001b[0;34m:\u001b[0m\u001b[0;34m\u001b[0m\u001b[0;34m\u001b[0m\u001b[0m\n",
      "\u001b[0;32m/usr/local/lib/python3.7/dist-packages/torch/nn/modules/module.py\u001b[0m in \u001b[0;36m__call__\u001b[0;34m(self, *input, **kwargs)\u001b[0m\n\u001b[1;32m    548\u001b[0m             \u001b[0mresult\u001b[0m \u001b[0;34m=\u001b[0m \u001b[0mself\u001b[0m\u001b[0;34m.\u001b[0m\u001b[0m_slow_forward\u001b[0m\u001b[0;34m(\u001b[0m\u001b[0;34m*\u001b[0m\u001b[0minput\u001b[0m\u001b[0;34m,\u001b[0m \u001b[0;34m**\u001b[0m\u001b[0mkwargs\u001b[0m\u001b[0;34m)\u001b[0m\u001b[0;34m\u001b[0m\u001b[0;34m\u001b[0m\u001b[0m\n\u001b[1;32m    549\u001b[0m         \u001b[0;32melse\u001b[0m\u001b[0;34m:\u001b[0m\u001b[0;34m\u001b[0m\u001b[0;34m\u001b[0m\u001b[0m\n\u001b[0;32m--> 550\u001b[0;31m             \u001b[0mresult\u001b[0m \u001b[0;34m=\u001b[0m \u001b[0mself\u001b[0m\u001b[0;34m.\u001b[0m\u001b[0mforward\u001b[0m\u001b[0;34m(\u001b[0m\u001b[0;34m*\u001b[0m\u001b[0minput\u001b[0m\u001b[0;34m,\u001b[0m \u001b[0;34m**\u001b[0m\u001b[0mkwargs\u001b[0m\u001b[0;34m)\u001b[0m\u001b[0;34m\u001b[0m\u001b[0;34m\u001b[0m\u001b[0m\n\u001b[0m\u001b[1;32m    551\u001b[0m         \u001b[0;32mfor\u001b[0m \u001b[0mhook\u001b[0m \u001b[0;32min\u001b[0m \u001b[0mself\u001b[0m\u001b[0;34m.\u001b[0m\u001b[0m_forward_hooks\u001b[0m\u001b[0;34m.\u001b[0m\u001b[0mvalues\u001b[0m\u001b[0;34m(\u001b[0m\u001b[0;34m)\u001b[0m\u001b[0;34m:\u001b[0m\u001b[0;34m\u001b[0m\u001b[0;34m\u001b[0m\u001b[0m\n\u001b[1;32m    552\u001b[0m             \u001b[0mhook_result\u001b[0m \u001b[0;34m=\u001b[0m \u001b[0mhook\u001b[0m\u001b[0;34m(\u001b[0m\u001b[0mself\u001b[0m\u001b[0;34m,\u001b[0m \u001b[0minput\u001b[0m\u001b[0;34m,\u001b[0m \u001b[0mresult\u001b[0m\u001b[0;34m)\u001b[0m\u001b[0;34m\u001b[0m\u001b[0;34m\u001b[0m\u001b[0m\n",
      "\u001b[0;32m/usr/local/lib/python3.7/dist-packages/torch/nn/modules/linear.py\u001b[0m in \u001b[0;36mforward\u001b[0;34m(self, input)\u001b[0m\n\u001b[1;32m     85\u001b[0m \u001b[0;34m\u001b[0m\u001b[0m\n\u001b[1;32m     86\u001b[0m     \u001b[0;32mdef\u001b[0m \u001b[0mforward\u001b[0m\u001b[0;34m(\u001b[0m\u001b[0mself\u001b[0m\u001b[0;34m,\u001b[0m \u001b[0minput\u001b[0m\u001b[0;34m)\u001b[0m\u001b[0;34m:\u001b[0m\u001b[0;34m\u001b[0m\u001b[0;34m\u001b[0m\u001b[0m\n\u001b[0;32m---> 87\u001b[0;31m         \u001b[0;32mreturn\u001b[0m \u001b[0mF\u001b[0m\u001b[0;34m.\u001b[0m\u001b[0mlinear\u001b[0m\u001b[0;34m(\u001b[0m\u001b[0minput\u001b[0m\u001b[0;34m,\u001b[0m \u001b[0mself\u001b[0m\u001b[0;34m.\u001b[0m\u001b[0mweight\u001b[0m\u001b[0;34m,\u001b[0m \u001b[0mself\u001b[0m\u001b[0;34m.\u001b[0m\u001b[0mbias\u001b[0m\u001b[0;34m)\u001b[0m\u001b[0;34m\u001b[0m\u001b[0;34m\u001b[0m\u001b[0m\n\u001b[0m\u001b[1;32m     88\u001b[0m \u001b[0;34m\u001b[0m\u001b[0m\n\u001b[1;32m     89\u001b[0m     \u001b[0;32mdef\u001b[0m \u001b[0mextra_repr\u001b[0m\u001b[0;34m(\u001b[0m\u001b[0mself\u001b[0m\u001b[0;34m)\u001b[0m\u001b[0;34m:\u001b[0m\u001b[0;34m\u001b[0m\u001b[0;34m\u001b[0m\u001b[0m\n",
      "\u001b[0;32m/usr/local/lib/python3.7/dist-packages/torch/nn/functional.py\u001b[0m in \u001b[0;36mlinear\u001b[0;34m(input, weight, bias)\u001b[0m\n\u001b[1;32m   1610\u001b[0m         \u001b[0mret\u001b[0m \u001b[0;34m=\u001b[0m \u001b[0mtorch\u001b[0m\u001b[0;34m.\u001b[0m\u001b[0maddmm\u001b[0m\u001b[0;34m(\u001b[0m\u001b[0mbias\u001b[0m\u001b[0;34m,\u001b[0m \u001b[0minput\u001b[0m\u001b[0;34m,\u001b[0m \u001b[0mweight\u001b[0m\u001b[0;34m.\u001b[0m\u001b[0mt\u001b[0m\u001b[0;34m(\u001b[0m\u001b[0;34m)\u001b[0m\u001b[0;34m)\u001b[0m\u001b[0;34m\u001b[0m\u001b[0;34m\u001b[0m\u001b[0m\n\u001b[1;32m   1611\u001b[0m     \u001b[0;32melse\u001b[0m\u001b[0;34m:\u001b[0m\u001b[0;34m\u001b[0m\u001b[0;34m\u001b[0m\u001b[0m\n\u001b[0;32m-> 1612\u001b[0;31m         \u001b[0moutput\u001b[0m \u001b[0;34m=\u001b[0m \u001b[0minput\u001b[0m\u001b[0;34m.\u001b[0m\u001b[0mmatmul\u001b[0m\u001b[0;34m(\u001b[0m\u001b[0mweight\u001b[0m\u001b[0;34m.\u001b[0m\u001b[0mt\u001b[0m\u001b[0;34m(\u001b[0m\u001b[0;34m)\u001b[0m\u001b[0;34m)\u001b[0m\u001b[0;34m\u001b[0m\u001b[0;34m\u001b[0m\u001b[0m\n\u001b[0m\u001b[1;32m   1613\u001b[0m         \u001b[0;32mif\u001b[0m \u001b[0mbias\u001b[0m \u001b[0;32mis\u001b[0m \u001b[0;32mnot\u001b[0m \u001b[0;32mNone\u001b[0m\u001b[0;34m:\u001b[0m\u001b[0;34m\u001b[0m\u001b[0;34m\u001b[0m\u001b[0m\n\u001b[1;32m   1614\u001b[0m             \u001b[0moutput\u001b[0m \u001b[0;34m+=\u001b[0m \u001b[0mbias\u001b[0m\u001b[0;34m\u001b[0m\u001b[0;34m\u001b[0m\u001b[0m\n",
      "\u001b[0;31mKeyboardInterrupt\u001b[0m: "
     ]
    }
   ],
   "source": [
    "hist = []\n",
    "den.train()\n",
    "for epoch in range(5):  # loop over the dataset multiple times\n",
    "    running_loss = 0.0\n",
    "    for i in range(6000):\n",
    "        den.learn(2)\n",
    "        running_loss += den.last_loss\n",
    "        hist.append([i.item() for i in den.loss_terms])\n",
    "        if i % 2000 == 1999:    # print every 2000 mini-batches\n",
    "            id = str(epoch+1)+\"-\"+str(i+1)+\"-\"+\"den.pth\"\n",
    "            print('[%d, %5d] loss: %.3f' % (epoch + 1, i + 1, running_loss / 2000))\n",
    "            PATH = './'+id\n",
    "            torch.save(den.state_dict(), PATH)\n",
    "            running_loss = 0.0"
   ]
  },
  {
   "cell_type": "code",
   "execution_count": 391,
   "metadata": {},
   "outputs": [],
   "source": [
    "den.weights = [-2, 0, 0, 1]"
   ]
  },
  {
   "cell_type": "code",
   "execution_count": 309,
   "metadata": {},
   "outputs": [],
   "source": [
    "den.predictor = splice_n_pred"
   ]
  },
  {
   "cell_type": "code",
   "execution_count": 310,
   "metadata": {},
   "outputs": [
    {
     "data": {
      "text/plain": [
       "3617"
      ]
     },
     "execution_count": 310,
     "metadata": {},
     "output_type": "execute_result"
    }
   ],
   "source": [
    "den.i"
   ]
  },
  {
   "cell_type": "code",
   "execution_count": 362,
   "metadata": {},
   "outputs": [
    {
     "data": {
      "text/plain": [
       "[tensor([-80812.3438], grad_fn=<DivBackward0>),\n",
       " tensor([-258348.4062], grad_fn=<DivBackward0>),\n",
       " tensor([-0.0518], grad_fn=<DivBackward0>),\n",
       " tensor([0.0930], grad_fn=<DivBackward0>)]"
      ]
     },
     "execution_count": 362,
     "metadata": {},
     "output_type": "execute_result"
    }
   ],
   "source": [
    "den.loss_terms"
   ]
  },
  {
   "cell_type": "code",
   "execution_count": 31,
   "metadata": {},
   "outputs": [
    {
     "data": {
      "text/plain": [
       "tensor([1.6700], grad_fn=<AddBackward0>)"
      ]
     },
     "execution_count": 31,
     "metadata": {},
     "output_type": "execute_result"
    }
   ],
   "source": [
    "den.getLoss(2)"
   ]
  },
  {
   "cell_type": "code",
   "execution_count": 75,
   "metadata": {},
   "outputs": [
    {
     "data": {
      "text/plain": [
       "['EPWVVYMAPMHDVQA-AMMHFSEPKFGVDDDKLV',\n",
       " 'NYSMCCHPFRYHPKARLSRMFTQEWVDMF-FV-G',\n",
       " 'LNRFFKVMSCILPCHKLAKGIKMVHFAFYYSRAE',\n",
       " 'DSWKQECTCSHVHIGPWCNNPSFTYSIIHEEPAV',\n",
       " 'ASGTMLRGPQNVMVLEIQPMRPDGR-GKFCNFAI',\n",
       " 'PGLNPVIGSIISKKFKYKKGHSRVHKNHDDWIDD',\n",
       " 'NERRRVKECSLPNYHNYWMHDNPHRHIK-HC-IM',\n",
       " 'NENPMKNELKMQNEK-HMVRNEQ-KDERFNCIKK',\n",
       " 'W-DRTHKPCVCGCFFVDMTSTQQAMFCHRGLKMI',\n",
       " 'LWRCMRIEAHPNKCNSRHEFETCKEGEAGLVIDI']"
      ]
     },
     "execution_count": 75,
     "metadata": {},
     "output_type": "execute_result"
    }
   ],
   "source": [
    "den.generate(2)"
   ]
  },
  {
   "cell_type": "code",
   "execution_count": 358,
   "metadata": {},
   "outputs": [],
   "source": [
    "hist0 += hist.copy()"
   ]
  },
  {
   "cell_type": "code",
   "execution_count": 44,
   "metadata": {},
   "outputs": [],
   "source": [
    "import matplotlib.pyplot as plt"
   ]
  },
  {
   "cell_type": "code",
   "execution_count": 400,
   "metadata": {},
   "outputs": [
    {
     "data": {
      "text/plain": [
       "[<matplotlib.lines.Line2D at 0x7f032ceb9c50>]"
      ]
     },
     "execution_count": 400,
     "metadata": {},
     "output_type": "execute_result"
    },
    {
     "data": {
      "image/png": "[encoded data removed]",
      "text/plain": [
       "<Figure size 432x288 with 1 Axes>"
      ]
     },
     "metadata": {
      "needs_background": "light"
     },
     "output_type": "display_data"
    }
   ],
   "source": [
    "plt.plot([i[0] for i in hist])"
   ]
  },
  {
   "cell_type": "code",
   "execution_count": 372,
   "metadata": {},
   "outputs": [
    {
     "data": {
      "text/plain": [
       "18"
      ]
     },
     "execution_count": 372,
     "metadata": {},
     "output_type": "execute_result"
    }
   ],
   "source": [
    "import editdistance\n",
    "editdistance.eval('WITVLLYYLSSLRNGSGQRQQTVEFWVAGPENMQ-',\n",
    " 'RPDWNTYYLSKTINHSGQNQLTLMDAVAGPSYMQ-')"
   ]
  },
  {
   "cell_type": "code",
   "execution_count": 395,
   "metadata": {},
   "outputs": [
    {
     "data": {
      "text/plain": [
       "[tensor([-447.8500], grad_fn=<DivBackward0>),\n",
       " tensor([-44.7500], grad_fn=<DivBackward0>),\n",
       " tensor([-0.0493], grad_fn=<DivBackward0>),\n",
       " tensor([0.2590], grad_fn=<DivBackward0>)]"
      ]
     },
     "execution_count": 395,
     "metadata": {},
     "output_type": "execute_result"
    }
   ],
   "source": [
    "den.loss_terms"
   ]
  },
  {
   "cell_type": "code",
   "execution_count": 62,
   "metadata": {},
   "outputs": [
    {
     "data": {
      "text/plain": [
       "torch.Size([10, 1, 736, 21])"
      ]
     },
     "execution_count": 62,
     "metadata": {},
     "output_type": "execute_result"
    }
   ],
   "source": [
    "den.wt.shape"
   ]
  },
  {
   "cell_type": "code",
   "execution_count": 401,
   "metadata": {},
   "outputs": [
    {
     "data": {
      "text/plain": [
       "['KQDHPACMVYEFLHMHDRMSETYDSMYRICPKAGV',\n",
       " 'EHTFHDQRSQPHNDIEYTTNTQLSFIQLHMISL',\n",
       " 'LDQIAYTFTRLWDVWAHMQFIIRQTPTIDAWYECP',\n",
       " 'NNAHATFHGKFPIFKQNGAMPIYQQVHGAGGGVFS',\n",
       " 'QDMSGVFDIRPSQNTHATIVIKIKTSYQAVCQG',\n",
       " 'AGWLHFASVCAEFKSEGDMVMQFNEWLWKQYIEM',\n",
       " 'NCQQDPDRFVCEMQLWKVWMHSKPLEPCDRADS',\n",
       " 'PVRLWSSDMYCKWDLMFEMEVSEDMPHSYEELWG',\n",
       " 'CKIYPASDVYELYAQDCDGDWMQICERQNGKPM',\n",
       " 'IGDRYEVERFETLVTRRKWNANQLTVIDLWPFRP']"
      ]
     },
     "execution_count": 401,
     "metadata": {},
     "output_type": "execute_result"
    }
   ],
   "source": [
    "den.generate(2)"
   ]
  },
  {
   "cell_type": "code",
   "execution_count": 264,
   "metadata": {},
   "outputs": [
    {
     "data": {
      "text/plain": [
       "tensor([[-3.9744, -4.0466,  0.0869, -3.9486, -3.9170, -3.9344, -3.9981, -3.9984,\n",
       "         -3.8266, -3.9717, -3.9686, -4.0489, -4.0038, -4.0192, -3.9969, -4.0142,\n",
       "         -3.9097, -3.9142, -3.9911, -3.9679, -3.9820],\n",
       "        [-4.0064, -3.9440, -4.0613, -3.9640, -3.9772, -3.9692, -3.9578, -3.9863,\n",
       "         -3.9794, -3.9078, -4.0877, -3.9665,  0.0569, -4.0354, -3.9839, -3.9660,\n",
       "         -4.0192, -4.0356, -3.9380, -3.9793, -4.0191],\n",
       "        [-3.9698, -4.0155, -3.9891, -3.9390, -4.0129, -4.0899, -4.0242, -3.9431,\n",
       "         -4.0186, -3.8615, -4.0060, -4.0204, -3.9836, -3.9068, -3.8619, -3.9405,\n",
       "         -4.0435,  0.0000,  0.0149, -4.0166, -4.0309],\n",
       "        [-3.9778, -3.9096, -3.9718, -3.9957, -4.0093, -4.0064, -4.0340,  0.0102,\n",
       "          0.0000, -3.9108, -3.9593, -3.9705, -3.9801, -3.9019, -3.9361, -4.0268,\n",
       "         -3.9391, -4.0173, -4.0337, -3.9277, -3.9764],\n",
       "        [-4.0138, -3.9600, -3.9709, -3.9718, -4.0179, -4.0168, -3.8832, -4.0221,\n",
       "         -4.0132, -4.0200, -3.8851, -3.8983, -3.9942, -3.9090, -0.1860, -3.9896,\n",
       "         -3.9538, -3.9426, -4.0030, -3.9835, -4.0168]],\n",
       "       grad_fn=<SliceBackward>)"
      ]
     },
     "execution_count": 264,
     "metadata": {},
     "output_type": "execute_result"
    }
   ],
   "source": [
    "den.pwm1[0,0,0:5,:]"
   ]
  },
  {
   "cell_type": "code",
   "execution_count": 198,
   "metadata": {},
   "outputs": [
    {
     "data": {
      "text/plain": [
       "tensor([[0., 0., 1., 0., 0., 0., 0., 0., 0., 0., 0., 0., 0., 0., 0., 0., 0., 0.,\n",
       "         0., 0., 0.],\n",
       "        [0., 0., 0., 0., 0., 0., 0., 0., 0., 0., 0., 0., 1., 0., 0., 0., 0., 0.,\n",
       "         0., 0., 0.],\n",
       "        [0., 0., 0., 0., 0., 0., 0., 0., 0., 0., 0., 0., 0., 0., 0., 0., 0., 0.,\n",
       "         1., 0., 0.],\n",
       "        [0., 0., 0., 0., 0., 0., 0., 1., 0., 0., 0., 0., 0., 0., 0., 0., 0., 0.,\n",
       "         0., 0., 0.],\n",
       "        [0., 0., 0., 0., 0., 0., 0., 0., 0., 0., 0., 0., 0., 0., 1., 0., 0., 0.,\n",
       "         0., 0., 0.]])"
      ]
     },
     "execution_count": 198,
     "metadata": {},
     "output_type": "execute_result"
    }
   ],
   "source": [
    "den.twt[0,0,0:5,:]"
   ]
  },
  {
   "cell_type": "code",
   "execution_count": 122,
   "metadata": {},
   "outputs": [],
   "source": [
    "den.optimizer = torch.optim.Adam(den.parameters(), lr=0.0001)"
   ]
  },
  {
   "cell_type": "code",
   "execution_count": 119,
   "metadata": {},
   "outputs": [],
   "source": [
    "den.dropout = torch.nn.Dropout(p=0.2)"
   ]
  },
  {
   "cell_type": "code",
   "execution_count": 179,
   "metadata": {},
   "outputs": [
    {
     "data": {
      "text/plain": [
       "['LIDQYLYYLSKTINGSGQNQQTLKFSVAGPSNMA',\n",
       " 'LIDQYLYYLSKTINGSGQNQQTLKFSVAGPSNMA',\n",
       " 'LIDQYLYYLSKTINGSGQNQQTLKFSVAGPSNMA',\n",
       " 'LIDQYLYYLSKTINGSGQNQQTLKFSVAGPSNMA',\n",
       " 'LIDQYLYYLSKTINGSGQNQQTLKFSVAGPSNMA',\n",
       " 'LIDQYLYYLSKTINGSGQNQQTLKFSVAGPSNMA',\n",
       " 'LIDQYLYYLSKTINGSGQNQQTLKFSVAGPSNMA',\n",
       " 'LIDQYLYYLSKTINGSGQNQQTLKFSVAGPSNMA',\n",
       " 'LIDQYLYYLSKTINGSGQNQQTLKFSVAGPSNMA',\n",
       " 'LIDQYLYYLSKTINGSGQNQQTLKFSVAGPSNMA']"
      ]
     },
     "execution_count": 179,
     "metadata": {},
     "output_type": "execute_result"
    }
   ],
   "source": [
    "start, end = den.tile_scheme[2]\n",
    "den.seq2string(den.wt[:, :, start:end, :])"
   ]
  },
  {
   "cell_type": "code",
   "execution_count": 139,
   "metadata": {},
   "outputs": [
    {
     "data": {
      "text/plain": [
       "['LWKK-CTYTVGRKNKFGGGFRMCKFIELKSPLMV']"
      ]
     },
     "execution_count": 139,
     "metadata": {},
     "output_type": "execute_result"
    }
   ],
   "source": [
    "['LIYTYYYVLSNTFHYSGQNQKTGKFSVAGPKNMD-']"
   ]
  },
  {
   "cell_type": "code",
   "execution_count": 254,
   "metadata": {},
   "outputs": [],
   "source": [
    "hist0 = []"
   ]
  },
  {
   "cell_type": "code",
   "execution_count": 141,
   "metadata": {},
   "outputs": [
    {
     "data": {
      "text/plain": [
       "34"
      ]
     },
     "execution_count": 141,
     "metadata": {},
     "output_type": "execute_result"
    }
   ],
   "source": [
    "len(range(438, 472))"
   ]
  },
  {
   "cell_type": "code",
   "execution_count": 142,
   "metadata": {},
   "outputs": [
    {
     "data": {
      "text/plain": [
       "34"
      ]
     },
     "execution_count": 142,
     "metadata": {},
     "output_type": "execute_result"
    }
   ],
   "source": [
    "len(list(range(1000))[438:472])"
   ]
  },
  {
   "cell_type": "code",
   "execution_count": 143,
   "metadata": {},
   "outputs": [],
   "source": [
    "dictt = {1:2, 4:5, 3:3}"
   ]
  },
  {
   "cell_type": "code",
   "execution_count": 149,
   "metadata": {},
   "outputs": [
    {
     "data": {
      "text/plain": [
       "2"
      ]
     },
     "execution_count": 149,
     "metadata": {},
     "output_type": "execute_result"
    }
   ],
   "source": [
    "sum([i<4 for i in dictt.keys()])"
   ]
  },
  {
   "cell_type": "code",
   "execution_count": 146,
   "metadata": {},
   "outputs": [
    {
     "data": {
      "text/plain": [
       "[1, 4, 3]"
      ]
     },
     "execution_count": 146,
     "metadata": {},
     "output_type": "execute_result"
    }
   ],
   "source": [
    "[i for i in dictt.keys()]"
   ]
  },
  {
   "cell_type": "code",
   "execution_count": 147,
   "metadata": {},
   "outputs": [
    {
     "data": {
      "text/plain": [
       "False"
      ]
     },
     "execution_count": 147,
     "metadata": {},
     "output_type": "execute_result"
    }
   ],
   "source": [
    "4<4"
   ]
  },
  {
   "cell_type": "code",
   "execution_count": 151,
   "metadata": {},
   "outputs": [],
   "source": [
    "a = torch.Tensor(\n",
    "    [[0.2215, 0.5859, 0.4782, 0.7411],\n",
    "    [0.3078, 0.3854, 0.3981, 0],\n",
    "    [0.1363, 0.4060, 0.2030, 0.4940],\n",
    "    [0.1640, 0.6025, 0.2267, 0.7036],\n",
    "    [0.2445, 0.3032, 0.3300, 0.4253]])"
   ]
  },
  {
   "cell_type": "code",
   "execution_count": 161,
   "metadata": {},
   "outputs": [],
   "source": [
    "a, b = torch.zeros([10, 1, 34, 21]), torch.zeros([10, 1, 1, 21])"
   ]
  },
  {
   "cell_type": "code",
   "execution_count": 165,
   "metadata": {},
   "outputs": [
    {
     "data": {
      "text/plain": [
       "torch.Size([10, 1, 35, 21])"
      ]
     },
     "execution_count": 165,
     "metadata": {},
     "output_type": "execute_result"
    }
   ],
   "source": [
    "torch.cat((a,b),dim=2).shape"
   ]
  },
  {
   "cell_type": "code",
   "execution_count": 200,
   "metadata": {},
   "outputs": [
    {
     "data": {
      "text/plain": [
       "tensor([[6.6986e-03, 5.8516e-03, 4.8746e-02,  ..., 1.4737e-03, 4.9876e-03,\n",
       "         4.1394e-02],\n",
       "        [1.2763e-02, 4.4494e-03, 2.0240e-02,  ..., 3.8448e-03, 3.9101e-03,\n",
       "         1.9369e-02],\n",
       "        [4.2602e-03, 6.7740e-03, 1.5193e-02,  ..., 2.9624e-05, 4.0039e-03,\n",
       "         2.4102e-02],\n",
       "        ...,\n",
       "        [0.0000e+00, 1.6585e-03, 2.6671e-02,  ..., 3.8034e-03, 2.0336e-03,\n",
       "         2.8774e-02],\n",
       "        [1.2352e-03, 3.1670e-03, 1.7244e-02,  ..., 2.6959e-03, 1.5436e-03,\n",
       "         2.0604e-02],\n",
       "        [3.8105e-03, 6.2417e-03, 1.0000e+00,  ..., 8.8455e-03, 1.0591e-03,\n",
       "         4.9705e-02]], grad_fn=<L1LossBackward>)"
      ]
     },
     "execution_count": 200,
     "metadata": {},
     "output_type": "execute_result"
    }
   ],
   "source": [
    "den.wtdelta.float()"
   ]
  },
  {
   "cell_type": "code",
   "execution_count": 209,
   "metadata": {},
   "outputs": [
    {
     "data": {
      "text/plain": [
       "tensor([[1.0228, 1.0315, 1.0253, 1.0145, 1.0249, 1.0095, 1.0121, 1.0069, 1.0149,\n",
       "         1.0170, 1.0180, 1.0066, 1.0196, 1.0240, 1.0251, 1.0066, 1.0266, 1.0162,\n",
       "         1.0092, 1.0163, 1.0242, 1.0136, 1.0139, 1.0119, 1.0172, 0.0079, 1.0064,\n",
       "         1.0151, 1.0026, 1.0268, 1.0211, 1.0218, 1.0242, 1.0016, 1.0110]],\n",
       "       grad_fn=<SelectBackward>)"
      ]
     },
     "execution_count": 209,
     "metadata": {},
     "output_type": "execute_result"
    }
   ],
   "source": [
    "torch.max(den.pwm1,dim=3)[0][0]"
   ]
  },
  {
   "cell_type": "code",
   "execution_count": 239,
   "metadata": {},
   "outputs": [
    {
     "data": {
      "text/plain": [
       "tensor([[-42, -30,   1]])"
      ]
     },
     "execution_count": 239,
     "metadata": {},
     "output_type": "execute_result"
    }
   ],
   "source": [
    "import torch.nn.functional as F\n",
    "logits = torch.tensor([[-30,-30,1]])\n",
    "logits[0][0] = -42.0\n",
    "logits"
   ]
  },
  {
   "cell_type": "code",
   "execution_count": 238,
   "metadata": {},
   "outputs": [
    {
     "ename": "RuntimeError",
     "evalue": "\"exponential_cpu\" not implemented for 'Long'",
     "output_type": "error",
     "traceback": [
      "\u001b[0;31m---------------------------------------------------------------------------\u001b[0m",
      "\u001b[0;31mRuntimeError\u001b[0m                              Traceback (most recent call last)",
      "\u001b[0;32m<ipython-input-238-6e336126a7d2>\u001b[0m in \u001b[0;36m<module>\u001b[0;34m\u001b[0m\n\u001b[1;32m      1\u001b[0m \u001b[0;32mfor\u001b[0m \u001b[0mi\u001b[0m \u001b[0;32min\u001b[0m \u001b[0mrange\u001b[0m\u001b[0;34m(\u001b[0m\u001b[0;36m500\u001b[0m\u001b[0;34m)\u001b[0m\u001b[0;34m:\u001b[0m\u001b[0;34m\u001b[0m\u001b[0;34m\u001b[0m\u001b[0m\n\u001b[0;32m----> 2\u001b[0;31m     \u001b[0mprint\u001b[0m\u001b[0;34m(\u001b[0m\u001b[0mF\u001b[0m\u001b[0;34m.\u001b[0m\u001b[0mgumbel_softmax\u001b[0m\u001b[0;34m(\u001b[0m\u001b[0mlogits\u001b[0m\u001b[0;34m,\u001b[0m \u001b[0mtau\u001b[0m\u001b[0;34m=\u001b[0m\u001b[0;36m0.2\u001b[0m\u001b[0;34m,\u001b[0m \u001b[0mhard\u001b[0m\u001b[0;34m=\u001b[0m\u001b[0;32mTrue\u001b[0m\u001b[0;34m)\u001b[0m\u001b[0;34m)\u001b[0m\u001b[0;34m\u001b[0m\u001b[0;34m\u001b[0m\u001b[0m\n\u001b[0m",
      "\u001b[0;32m/usr/local/lib/python3.7/dist-packages/torch/nn/functional.py\u001b[0m in \u001b[0;36mgumbel_softmax\u001b[0;34m(logits, tau, hard, eps, dim)\u001b[0m\n\u001b[1;32m   1494\u001b[0m         \u001b[0mwarnings\u001b[0m\u001b[0;34m.\u001b[0m\u001b[0mwarn\u001b[0m\u001b[0;34m(\u001b[0m\u001b[0;34m\"`eps` parameter is deprecated and has no effect.\"\u001b[0m\u001b[0;34m)\u001b[0m\u001b[0;34m\u001b[0m\u001b[0;34m\u001b[0m\u001b[0m\n\u001b[1;32m   1495\u001b[0m \u001b[0;34m\u001b[0m\u001b[0m\n\u001b[0;32m-> 1496\u001b[0;31m     \u001b[0mgumbels\u001b[0m \u001b[0;34m=\u001b[0m \u001b[0;34m-\u001b[0m\u001b[0mtorch\u001b[0m\u001b[0;34m.\u001b[0m\u001b[0mempty_like\u001b[0m\u001b[0;34m(\u001b[0m\u001b[0mlogits\u001b[0m\u001b[0;34m,\u001b[0m \u001b[0mmemory_format\u001b[0m\u001b[0;34m=\u001b[0m\u001b[0mtorch\u001b[0m\u001b[0;34m.\u001b[0m\u001b[0mlegacy_contiguous_format\u001b[0m\u001b[0;34m)\u001b[0m\u001b[0;34m.\u001b[0m\u001b[0mexponential_\u001b[0m\u001b[0;34m(\u001b[0m\u001b[0;34m)\u001b[0m\u001b[0;34m.\u001b[0m\u001b[0mlog\u001b[0m\u001b[0;34m(\u001b[0m\u001b[0;34m)\u001b[0m  \u001b[0;31m# ~Gumbel(0,1)\u001b[0m\u001b[0;34m\u001b[0m\u001b[0;34m\u001b[0m\u001b[0m\n\u001b[0m\u001b[1;32m   1497\u001b[0m     \u001b[0mgumbels\u001b[0m \u001b[0;34m=\u001b[0m \u001b[0;34m(\u001b[0m\u001b[0mlogits\u001b[0m \u001b[0;34m+\u001b[0m \u001b[0mgumbels\u001b[0m\u001b[0;34m)\u001b[0m \u001b[0;34m/\u001b[0m \u001b[0mtau\u001b[0m  \u001b[0;31m# ~Gumbel(logits,tau)\u001b[0m\u001b[0;34m\u001b[0m\u001b[0;34m\u001b[0m\u001b[0m\n\u001b[1;32m   1498\u001b[0m     \u001b[0my_soft\u001b[0m \u001b[0;34m=\u001b[0m \u001b[0mgumbels\u001b[0m\u001b[0;34m.\u001b[0m\u001b[0msoftmax\u001b[0m\u001b[0;34m(\u001b[0m\u001b[0mdim\u001b[0m\u001b[0;34m)\u001b[0m\u001b[0;34m\u001b[0m\u001b[0;34m\u001b[0m\u001b[0m\n",
      "\u001b[0;31mRuntimeError\u001b[0m: \"exponential_cpu\" not implemented for 'Long'"
     ]
    }
   ],
   "source": [
    "for i in range(500):\n",
    "    print(F.gumbel_softmax(logits, tau=0.2, hard=True))"
   ]
  },
  {
   "cell_type": "code",
   "execution_count": 266,
   "metadata": {},
   "outputs": [],
   "source": [
    "HIST0 = (hist0+hist).copy()"
   ]
  },
  {
   "cell_type": "code",
   "execution_count": 270,
   "metadata": {},
   "outputs": [
    {
     "data": {
      "text/plain": [
       "0.949479877948761"
      ]
     },
     "execution_count": 270,
     "metadata": {},
     "output_type": "execute_result"
    }
   ],
   "source": [
    "den.predictor([den.str2ind(WILDTYPE_2)]*2)[0]"
   ]
  },
  {
   "cell_type": "code",
   "execution_count": 276,
   "metadata": {},
   "outputs": [
    {
     "data": {
      "text/plain": [
       "'SLDRLMNPLIDQYLYYLSKTINGSGQNQQTLKFSVAGPSNMAVQGRNYIPGPSY'"
      ]
     },
     "execution_count": 276,
     "metadata": {},
     "output_type": "execute_result"
    }
   ],
   "source": [
    "WILDTYPE_2"
   ]
  },
  {
   "cell_type": "code",
   "execution_count": 279,
   "metadata": {},
   "outputs": [
    {
     "data": {
      "text/plain": [
       "8"
      ]
     },
     "execution_count": 279,
     "metadata": {},
     "output_type": "execute_result"
    }
   ],
   "source": [
    "WILDTYPE_2.index('LIDQ')"
   ]
  },
  {
   "cell_type": "code",
   "execution_count": 278,
   "metadata": {},
   "outputs": [
    {
     "data": {
      "text/plain": [
       "42"
      ]
     },
     "execution_count": 278,
     "metadata": {},
     "output_type": "execute_result"
    }
   ],
   "source": [
    "WILDTYPE_2.index('VQ')"
   ]
  },
  {
   "cell_type": "code",
   "execution_count": 286,
   "metadata": {},
   "outputs": [],
   "source": [
    "def splice_n_pred(seq):\n",
    "    INP = WILDTYPE_2[:8] + seq + WILDTYPE_2[42:]\n",
    "    inds = data_processors.utils.seq_to_ind(INP.replace('-', ''), Alphabet().chars) \n",
    "    return rnn_model.predict([inds]*2)[0]\n",
    "\n"
   ]
  },
  {
   "cell_type": "code",
   "execution_count": 375,
   "metadata": {},
   "outputs": [],
   "source": [
    "WTL7T1 = 'LIDQYLYYLSKTINGSGQNQQTLKFSVAGPSNMA'"
   ]
  },
  {
   "cell_type": "code",
   "execution_count": 288,
   "metadata": {},
   "outputs": [],
   "source": [
    "TESTERS = ['WITVLLYYLSSLRNGSGQRQQTVEFWVAGPENMQ-',\n",
    " 'RPDWNTYYLSKTINHSGQNQLTLMDAVAGPSYMQ-',\n",
    " 'LIDEYLYDWPKN-PGGPQNQQTHKDSVAVGHNGA-',\n",
    " 'LGDQYLYYLSEQINGSGQHQQHLSFSVAGPSNQQC',\n",
    " 'LIDDYLYWLSKQGNGAYQCQVKEWFSVIF-SNMA-',\n",
    " 'LPEQYHYCLNKTINGSGQNQHTNKFSVDEMSNRA-',\n",
    " 'KNDLYLENLFKSELGSTMNQHTLKYSLAGSSNFQK',\n",
    " 'LFDQYLY-LSRTINGYGPNQDTQRFSSAVPSNMA-',\n",
    " 'LDDQYWYYVSKTINGSGQ-QQTLKCSHAGPSNMAH',\n",
    " 'LIYTYYYVLSNTFHYSGQNQKTGKFSVAGPKNMD-']"
   ]
  },
  {
   "cell_type": "code",
   "execution_count": 408,
   "metadata": {},
   "outputs": [
    {
     "name": "stdout",
     "output_type": "stream",
     "text": [
      "LICQYLYNLSKTICGAAQARNSLKFSCAGPSNMQ 0.9348356127738953 11\n"
     ]
    },
    {
     "ename": "KeyboardInterrupt",
     "evalue": "",
     "output_type": "error",
     "traceback": [
      "\u001b[0;31m---------------------------------------------------------------------------\u001b[0m",
      "\u001b[0;31mKeyboardInterrupt\u001b[0m                         Traceback (most recent call last)",
      "\u001b[0;32m<ipython-input-408-eea459ce4167>\u001b[0m in \u001b[0;36m<module>\u001b[0;34m\u001b[0m\n\u001b[1;32m      2\u001b[0m \u001b[0;32mwhile\u001b[0m \u001b[0;32mTrue\u001b[0m\u001b[0;34m:\u001b[0m\u001b[0;34m\u001b[0m\u001b[0;34m\u001b[0m\u001b[0m\n\u001b[1;32m      3\u001b[0m     \u001b[0mx\u001b[0m \u001b[0;34m=\u001b[0m \u001b[0mden\u001b[0m\u001b[0;34m.\u001b[0m\u001b[0mgenerate\u001b[0m\u001b[0;34m(\u001b[0m\u001b[0;36m2\u001b[0m\u001b[0;34m)\u001b[0m\u001b[0;34m\u001b[0m\u001b[0;34m\u001b[0m\u001b[0m\n\u001b[0;32m----> 4\u001b[0;31m     \u001b[0mu\u001b[0m \u001b[0;34m=\u001b[0m \u001b[0;34m[\u001b[0m\u001b[0;34m(\u001b[0m\u001b[0ms\u001b[0m\u001b[0;34m,\u001b[0m\u001b[0msplice_n_pred\u001b[0m\u001b[0;34m(\u001b[0m\u001b[0ms\u001b[0m\u001b[0;34m)\u001b[0m\u001b[0;34m)\u001b[0m \u001b[0;32mfor\u001b[0m \u001b[0ms\u001b[0m \u001b[0;32min\u001b[0m \u001b[0mx\u001b[0m\u001b[0;34m]\u001b[0m\u001b[0;34m\u001b[0m\u001b[0;34m\u001b[0m\u001b[0m\n\u001b[0m\u001b[1;32m      5\u001b[0m     \u001b[0;32mfor\u001b[0m \u001b[0ms\u001b[0m\u001b[0;34m,\u001b[0m\u001b[0mss\u001b[0m \u001b[0;32min\u001b[0m \u001b[0mu\u001b[0m\u001b[0;34m:\u001b[0m\u001b[0;34m\u001b[0m\u001b[0;34m\u001b[0m\u001b[0m\n\u001b[1;32m      6\u001b[0m         \u001b[0md\u001b[0m \u001b[0;34m=\u001b[0m \u001b[0meditdistance\u001b[0m\u001b[0;34m.\u001b[0m\u001b[0meval\u001b[0m\u001b[0;34m(\u001b[0m\u001b[0ms\u001b[0m\u001b[0;34m,\u001b[0m \u001b[0mWTL7T1\u001b[0m\u001b[0;34m)\u001b[0m\u001b[0;34m\u001b[0m\u001b[0;34m\u001b[0m\u001b[0m\n",
      "\u001b[0;32m<ipython-input-408-eea459ce4167>\u001b[0m in \u001b[0;36m<listcomp>\u001b[0;34m(.0)\u001b[0m\n\u001b[1;32m      2\u001b[0m \u001b[0;32mwhile\u001b[0m \u001b[0;32mTrue\u001b[0m\u001b[0;34m:\u001b[0m\u001b[0;34m\u001b[0m\u001b[0;34m\u001b[0m\u001b[0m\n\u001b[1;32m      3\u001b[0m     \u001b[0mx\u001b[0m \u001b[0;34m=\u001b[0m \u001b[0mden\u001b[0m\u001b[0;34m.\u001b[0m\u001b[0mgenerate\u001b[0m\u001b[0;34m(\u001b[0m\u001b[0;36m2\u001b[0m\u001b[0;34m)\u001b[0m\u001b[0;34m\u001b[0m\u001b[0;34m\u001b[0m\u001b[0m\n\u001b[0;32m----> 4\u001b[0;31m     \u001b[0mu\u001b[0m \u001b[0;34m=\u001b[0m \u001b[0;34m[\u001b[0m\u001b[0;34m(\u001b[0m\u001b[0ms\u001b[0m\u001b[0;34m,\u001b[0m\u001b[0msplice_n_pred\u001b[0m\u001b[0;34m(\u001b[0m\u001b[0ms\u001b[0m\u001b[0;34m)\u001b[0m\u001b[0;34m)\u001b[0m \u001b[0;32mfor\u001b[0m \u001b[0ms\u001b[0m \u001b[0;32min\u001b[0m \u001b[0mx\u001b[0m\u001b[0;34m]\u001b[0m\u001b[0;34m\u001b[0m\u001b[0;34m\u001b[0m\u001b[0m\n\u001b[0m\u001b[1;32m      5\u001b[0m     \u001b[0;32mfor\u001b[0m \u001b[0ms\u001b[0m\u001b[0;34m,\u001b[0m\u001b[0mss\u001b[0m \u001b[0;32min\u001b[0m \u001b[0mu\u001b[0m\u001b[0;34m:\u001b[0m\u001b[0;34m\u001b[0m\u001b[0;34m\u001b[0m\u001b[0m\n\u001b[1;32m      6\u001b[0m         \u001b[0md\u001b[0m \u001b[0;34m=\u001b[0m \u001b[0meditdistance\u001b[0m\u001b[0;34m.\u001b[0m\u001b[0meval\u001b[0m\u001b[0;34m(\u001b[0m\u001b[0ms\u001b[0m\u001b[0;34m,\u001b[0m \u001b[0mWTL7T1\u001b[0m\u001b[0;34m)\u001b[0m\u001b[0;34m\u001b[0m\u001b[0;34m\u001b[0m\u001b[0m\n",
      "\u001b[0;32m<ipython-input-286-cfde7f7483ed>\u001b[0m in \u001b[0;36msplice_n_pred\u001b[0;34m(seq)\u001b[0m\n\u001b[1;32m      2\u001b[0m     \u001b[0mINP\u001b[0m \u001b[0;34m=\u001b[0m \u001b[0mWILDTYPE_2\u001b[0m\u001b[0;34m[\u001b[0m\u001b[0;34m:\u001b[0m\u001b[0;36m8\u001b[0m\u001b[0;34m]\u001b[0m \u001b[0;34m+\u001b[0m \u001b[0mseq\u001b[0m \u001b[0;34m+\u001b[0m \u001b[0mWILDTYPE_2\u001b[0m\u001b[0;34m[\u001b[0m\u001b[0;36m42\u001b[0m\u001b[0;34m:\u001b[0m\u001b[0;34m]\u001b[0m\u001b[0;34m\u001b[0m\u001b[0;34m\u001b[0m\u001b[0m\n\u001b[1;32m      3\u001b[0m     \u001b[0minds\u001b[0m \u001b[0;34m=\u001b[0m \u001b[0mdata_processors\u001b[0m\u001b[0;34m.\u001b[0m\u001b[0mutils\u001b[0m\u001b[0;34m.\u001b[0m\u001b[0mseq_to_ind\u001b[0m\u001b[0;34m(\u001b[0m\u001b[0mINP\u001b[0m\u001b[0;34m.\u001b[0m\u001b[0mreplace\u001b[0m\u001b[0;34m(\u001b[0m\u001b[0;34m'-'\u001b[0m\u001b[0;34m,\u001b[0m \u001b[0;34m''\u001b[0m\u001b[0;34m)\u001b[0m\u001b[0;34m,\u001b[0m \u001b[0mAlphabet\u001b[0m\u001b[0;34m(\u001b[0m\u001b[0;34m)\u001b[0m\u001b[0;34m.\u001b[0m\u001b[0mchars\u001b[0m\u001b[0;34m)\u001b[0m\u001b[0;34m\u001b[0m\u001b[0;34m\u001b[0m\u001b[0m\n\u001b[0;32m----> 4\u001b[0;31m     \u001b[0;32mreturn\u001b[0m \u001b[0mrnn_model\u001b[0m\u001b[0;34m.\u001b[0m\u001b[0mpredict\u001b[0m\u001b[0;34m(\u001b[0m\u001b[0;34m[\u001b[0m\u001b[0minds\u001b[0m\u001b[0;34m]\u001b[0m\u001b[0;34m*\u001b[0m\u001b[0;36m2\u001b[0m\u001b[0;34m)\u001b[0m\u001b[0;34m[\u001b[0m\u001b[0;36m0\u001b[0m\u001b[0;34m]\u001b[0m\u001b[0;34m\u001b[0m\u001b[0;34m\u001b[0m\u001b[0m\n\u001b[0m\u001b[1;32m      5\u001b[0m \u001b[0;34m\u001b[0m\u001b[0m\n",
      "\u001b[0;32m/home/jovyan/dyno/dyno/ml/models/rnn_classifier.py\u001b[0m in \u001b[0;36mpredict\u001b[0;34m(self, X)\u001b[0m\n\u001b[1;32m    226\u001b[0m         \u001b[0;31m# pass in regular sequences\u001b[0m\u001b[0;34m\u001b[0m\u001b[0;34m\u001b[0m\u001b[0;34m\u001b[0m\u001b[0m\n\u001b[1;32m    227\u001b[0m         \u001b[0mbatchX\u001b[0m\u001b[0;34m,\u001b[0m \u001b[0mbatchY\u001b[0m\u001b[0;34m,\u001b[0m \u001b[0msorted_inds\u001b[0m \u001b[0;34m=\u001b[0m \u001b[0mget_packed_batch\u001b[0m\u001b[0;34m(\u001b[0m\u001b[0mX\u001b[0m\u001b[0;34m)\u001b[0m\u001b[0;34m\u001b[0m\u001b[0;34m\u001b[0m\u001b[0m\n\u001b[0;32m--> 228\u001b[0;31m         \u001b[0mlogits\u001b[0m \u001b[0;34m=\u001b[0m \u001b[0mself\u001b[0m\u001b[0;34m.\u001b[0m\u001b[0mmodel\u001b[0m\u001b[0;34m(\u001b[0m\u001b[0mbatchX\u001b[0m\u001b[0;34m)\u001b[0m\u001b[0;34m.\u001b[0m\u001b[0msqueeze\u001b[0m\u001b[0;34m(\u001b[0m\u001b[0;34m)\u001b[0m\u001b[0;34m.\u001b[0m\u001b[0mdetach\u001b[0m\u001b[0;34m(\u001b[0m\u001b[0;34m)\u001b[0m\u001b[0;34m\u001b[0m\u001b[0;34m\u001b[0m\u001b[0m\n\u001b[0m\u001b[1;32m    229\u001b[0m         \u001b[0mpreds\u001b[0m \u001b[0;34m=\u001b[0m \u001b[0mtorch\u001b[0m\u001b[0;34m.\u001b[0m\u001b[0msigmoid\u001b[0m\u001b[0;34m(\u001b[0m\u001b[0mlogits\u001b[0m\u001b[0;34m)\u001b[0m\u001b[0;34m.\u001b[0m\u001b[0mcpu\u001b[0m\u001b[0;34m(\u001b[0m\u001b[0;34m)\u001b[0m\u001b[0;34m.\u001b[0m\u001b[0mnumpy\u001b[0m\u001b[0;34m(\u001b[0m\u001b[0;34m)\u001b[0m\u001b[0;34m\u001b[0m\u001b[0;34m\u001b[0m\u001b[0m\n\u001b[1;32m    230\u001b[0m \u001b[0;34m\u001b[0m\u001b[0m\n",
      "\u001b[0;32m/usr/local/lib/python3.7/dist-packages/torch/nn/modules/module.py\u001b[0m in \u001b[0;36m__call__\u001b[0;34m(self, *input, **kwargs)\u001b[0m\n\u001b[1;32m    548\u001b[0m             \u001b[0mresult\u001b[0m \u001b[0;34m=\u001b[0m \u001b[0mself\u001b[0m\u001b[0;34m.\u001b[0m\u001b[0m_slow_forward\u001b[0m\u001b[0;34m(\u001b[0m\u001b[0;34m*\u001b[0m\u001b[0minput\u001b[0m\u001b[0;34m,\u001b[0m \u001b[0;34m**\u001b[0m\u001b[0mkwargs\u001b[0m\u001b[0;34m)\u001b[0m\u001b[0;34m\u001b[0m\u001b[0;34m\u001b[0m\u001b[0m\n\u001b[1;32m    549\u001b[0m         \u001b[0;32melse\u001b[0m\u001b[0;34m:\u001b[0m\u001b[0;34m\u001b[0m\u001b[0;34m\u001b[0m\u001b[0m\n\u001b[0;32m--> 550\u001b[0;31m             \u001b[0mresult\u001b[0m \u001b[0;34m=\u001b[0m \u001b[0mself\u001b[0m\u001b[0;34m.\u001b[0m\u001b[0mforward\u001b[0m\u001b[0;34m(\u001b[0m\u001b[0;34m*\u001b[0m\u001b[0minput\u001b[0m\u001b[0;34m,\u001b[0m \u001b[0;34m**\u001b[0m\u001b[0mkwargs\u001b[0m\u001b[0;34m)\u001b[0m\u001b[0;34m\u001b[0m\u001b[0;34m\u001b[0m\u001b[0m\n\u001b[0m\u001b[1;32m    551\u001b[0m         \u001b[0;32mfor\u001b[0m \u001b[0mhook\u001b[0m \u001b[0;32min\u001b[0m \u001b[0mself\u001b[0m\u001b[0;34m.\u001b[0m\u001b[0m_forward_hooks\u001b[0m\u001b[0;34m.\u001b[0m\u001b[0mvalues\u001b[0m\u001b[0;34m(\u001b[0m\u001b[0;34m)\u001b[0m\u001b[0;34m:\u001b[0m\u001b[0;34m\u001b[0m\u001b[0;34m\u001b[0m\u001b[0m\n\u001b[1;32m    552\u001b[0m             \u001b[0mhook_result\u001b[0m \u001b[0;34m=\u001b[0m \u001b[0mhook\u001b[0m\u001b[0;34m(\u001b[0m\u001b[0mself\u001b[0m\u001b[0;34m,\u001b[0m \u001b[0minput\u001b[0m\u001b[0;34m,\u001b[0m \u001b[0mresult\u001b[0m\u001b[0;34m)\u001b[0m\u001b[0;34m\u001b[0m\u001b[0;34m\u001b[0m\u001b[0m\n",
      "\u001b[0;32m/home/jovyan/dyno/dyno/ml/models/rnn_classifier.py\u001b[0m in \u001b[0;36mforward\u001b[0;34m(self, input)\u001b[0m\n\u001b[1;32m    275\u001b[0m         \u001b[0marray\u001b[0m \u001b[0mof\u001b[0m \u001b[0mlogits\u001b[0m\u001b[0;34m\u001b[0m\u001b[0;34m\u001b[0m\u001b[0m\n\u001b[1;32m    276\u001b[0m         \"\"\"\n\u001b[0;32m--> 277\u001b[0;31m         \u001b[0mhidden\u001b[0m \u001b[0;34m=\u001b[0m \u001b[0mself\u001b[0m\u001b[0;34m.\u001b[0m\u001b[0mfinal_layer_embedding\u001b[0m\u001b[0;34m(\u001b[0m\u001b[0minput\u001b[0m\u001b[0;34m)\u001b[0m\u001b[0;34m\u001b[0m\u001b[0;34m\u001b[0m\u001b[0m\n\u001b[0m\u001b[1;32m    278\u001b[0m         \u001b[0mscore\u001b[0m \u001b[0;34m=\u001b[0m \u001b[0mself\u001b[0m\u001b[0;34m.\u001b[0m\u001b[0mscore\u001b[0m\u001b[0;34m(\u001b[0m\u001b[0mhidden\u001b[0m\u001b[0;34m)\u001b[0m\u001b[0;34m\u001b[0m\u001b[0;34m\u001b[0m\u001b[0m\n\u001b[1;32m    279\u001b[0m         \u001b[0;32mreturn\u001b[0m \u001b[0mscore\u001b[0m\u001b[0;34m\u001b[0m\u001b[0;34m\u001b[0m\u001b[0m\n",
      "\u001b[0;32m/home/jovyan/dyno/dyno/ml/models/rnn_classifier.py\u001b[0m in \u001b[0;36mfinal_layer_embedding\u001b[0;34m(self, input)\u001b[0m\n\u001b[1;32m    294\u001b[0m         \u001b[0membedded\u001b[0m \u001b[0;34m=\u001b[0m \u001b[0mnn\u001b[0m\u001b[0;34m.\u001b[0m\u001b[0mutils\u001b[0m\u001b[0;34m.\u001b[0m\u001b[0mrnn\u001b[0m\u001b[0;34m.\u001b[0m\u001b[0mPackedSequence\u001b[0m\u001b[0;34m(\u001b[0m\u001b[0mself\u001b[0m\u001b[0;34m.\u001b[0m\u001b[0membedding\u001b[0m\u001b[0;34m(\u001b[0m\u001b[0minput\u001b[0m\u001b[0;34m.\u001b[0m\u001b[0mdata\u001b[0m\u001b[0;34m)\u001b[0m\u001b[0;34m,\u001b[0m \u001b[0minput\u001b[0m\u001b[0;34m.\u001b[0m\u001b[0mbatch_sizes\u001b[0m\u001b[0;34m)\u001b[0m\u001b[0;34m\u001b[0m\u001b[0;34m\u001b[0m\u001b[0m\n\u001b[1;32m    295\u001b[0m         \u001b[0mhidden\u001b[0m \u001b[0;34m=\u001b[0m \u001b[0mself\u001b[0m\u001b[0;34m.\u001b[0m\u001b[0minitHidden\u001b[0m\u001b[0;34m(\u001b[0m\u001b[0mb_size\u001b[0m\u001b[0;34m)\u001b[0m\u001b[0;34m\u001b[0m\u001b[0;34m\u001b[0m\u001b[0m\n\u001b[0;32m--> 296\u001b[0;31m         \u001b[0moutput\u001b[0m\u001b[0;34m,\u001b[0m \u001b[0mhidden\u001b[0m \u001b[0;34m=\u001b[0m \u001b[0mself\u001b[0m\u001b[0;34m.\u001b[0m\u001b[0mgru\u001b[0m\u001b[0;34m(\u001b[0m\u001b[0membedded\u001b[0m\u001b[0;34m,\u001b[0m \u001b[0mhidden\u001b[0m\u001b[0;34m)\u001b[0m\u001b[0;34m\u001b[0m\u001b[0;34m\u001b[0m\u001b[0m\n\u001b[0m\u001b[1;32m    297\u001b[0m         \u001b[0;32mreturn\u001b[0m \u001b[0mhidden\u001b[0m\u001b[0;34m\u001b[0m\u001b[0;34m\u001b[0m\u001b[0m\n\u001b[1;32m    298\u001b[0m \u001b[0;34m\u001b[0m\u001b[0m\n",
      "\u001b[0;32m/usr/local/lib/python3.7/dist-packages/torch/nn/modules/module.py\u001b[0m in \u001b[0;36m__call__\u001b[0;34m(self, *input, **kwargs)\u001b[0m\n\u001b[1;32m    548\u001b[0m             \u001b[0mresult\u001b[0m \u001b[0;34m=\u001b[0m \u001b[0mself\u001b[0m\u001b[0;34m.\u001b[0m\u001b[0m_slow_forward\u001b[0m\u001b[0;34m(\u001b[0m\u001b[0;34m*\u001b[0m\u001b[0minput\u001b[0m\u001b[0;34m,\u001b[0m \u001b[0;34m**\u001b[0m\u001b[0mkwargs\u001b[0m\u001b[0;34m)\u001b[0m\u001b[0;34m\u001b[0m\u001b[0;34m\u001b[0m\u001b[0m\n\u001b[1;32m    549\u001b[0m         \u001b[0;32melse\u001b[0m\u001b[0;34m:\u001b[0m\u001b[0;34m\u001b[0m\u001b[0;34m\u001b[0m\u001b[0m\n\u001b[0;32m--> 550\u001b[0;31m             \u001b[0mresult\u001b[0m \u001b[0;34m=\u001b[0m \u001b[0mself\u001b[0m\u001b[0;34m.\u001b[0m\u001b[0mforward\u001b[0m\u001b[0;34m(\u001b[0m\u001b[0;34m*\u001b[0m\u001b[0minput\u001b[0m\u001b[0;34m,\u001b[0m \u001b[0;34m**\u001b[0m\u001b[0mkwargs\u001b[0m\u001b[0;34m)\u001b[0m\u001b[0;34m\u001b[0m\u001b[0;34m\u001b[0m\u001b[0m\n\u001b[0m\u001b[1;32m    551\u001b[0m         \u001b[0;32mfor\u001b[0m \u001b[0mhook\u001b[0m \u001b[0;32min\u001b[0m \u001b[0mself\u001b[0m\u001b[0;34m.\u001b[0m\u001b[0m_forward_hooks\u001b[0m\u001b[0;34m.\u001b[0m\u001b[0mvalues\u001b[0m\u001b[0;34m(\u001b[0m\u001b[0;34m)\u001b[0m\u001b[0;34m:\u001b[0m\u001b[0;34m\u001b[0m\u001b[0;34m\u001b[0m\u001b[0m\n\u001b[1;32m    552\u001b[0m             \u001b[0mhook_result\u001b[0m \u001b[0;34m=\u001b[0m \u001b[0mhook\u001b[0m\u001b[0;34m(\u001b[0m\u001b[0mself\u001b[0m\u001b[0;34m,\u001b[0m \u001b[0minput\u001b[0m\u001b[0;34m,\u001b[0m \u001b[0mresult\u001b[0m\u001b[0;34m)\u001b[0m\u001b[0;34m\u001b[0m\u001b[0;34m\u001b[0m\u001b[0m\n",
      "\u001b[0;32m/usr/local/lib/python3.7/dist-packages/torch/nn/modules/rnn.py\u001b[0m in \u001b[0;36mforward\u001b[0;34m(self, input, hx)\u001b[0m\n\u001b[1;32m    728\u001b[0m         \u001b[0;32melse\u001b[0m\u001b[0;34m:\u001b[0m\u001b[0;34m\u001b[0m\u001b[0;34m\u001b[0m\u001b[0m\n\u001b[1;32m    729\u001b[0m             result = _VF.gru(input, batch_sizes, hx, self._flat_weights, self.bias,\n\u001b[0;32m--> 730\u001b[0;31m                              self.num_layers, self.dropout, self.training, self.bidirectional)\n\u001b[0m\u001b[1;32m    731\u001b[0m         \u001b[0moutput\u001b[0m \u001b[0;34m=\u001b[0m \u001b[0mresult\u001b[0m\u001b[0;34m[\u001b[0m\u001b[0;36m0\u001b[0m\u001b[0;34m]\u001b[0m\u001b[0;34m\u001b[0m\u001b[0;34m\u001b[0m\u001b[0m\n\u001b[1;32m    732\u001b[0m         \u001b[0mhidden\u001b[0m \u001b[0;34m=\u001b[0m \u001b[0mresult\u001b[0m\u001b[0;34m[\u001b[0m\u001b[0;36m1\u001b[0m\u001b[0;34m]\u001b[0m\u001b[0;34m\u001b[0m\u001b[0;34m\u001b[0m\u001b[0m\n",
      "\u001b[0;31mKeyboardInterrupt\u001b[0m: "
     ]
    }
   ],
   "source": [
    "rets = []\n",
    "while True:\n",
    "    x = den.generate(2)\n",
    "    u = [(s,splice_n_pred(s)) for s in x]\n",
    "    for s,ss in u:\n",
    "        d = editdistance.eval(s, WTL7T1)\n",
    "        if ss>.75 and d>10:\n",
    "            print(s, ss, editdistance.eval(s, WTL7T1))\n",
    "            rets.append(s)"
   ]
  },
  {
   "cell_type": "code",
   "execution_count": 297,
   "metadata": {},
   "outputs": [
    {
     "data": {
      "text/plain": [
       "False"
      ]
     },
     "execution_count": 297,
     "metadata": {},
     "output_type": "execute_result"
    }
   ],
   "source": [
    "any(i > .9 for i in u)"
   ]
  },
  {
   "cell_type": "code",
   "execution_count": 397,
   "metadata": {},
   "outputs": [
    {
     "data": {
      "text/plain": [
       "[-446.25, -38.75, -0.04915418103337288, 0.15000002086162567]"
      ]
     },
     "execution_count": 397,
     "metadata": {},
     "output_type": "execute_result"
    }
   ],
   "source": [
    "hist[-1]"
   ]
  },
  {
   "cell_type": "code",
   "execution_count": null,
   "metadata": {},
   "outputs": [],
   "source": [
    "rets"
   ]
  },
  {
   "cell_type": "code",
   "execution_count": 304,
   "metadata": {},
   "outputs": [],
   "source": [
    "torch.save(den.state_dict(), './saved_ml_data/saved_models/den_1/checkpoint0.pth')"
   ]
  },
  {
   "cell_type": "code",
   "execution_count": 322,
   "metadata": {
    "collapsed": true,
    "jupyter": {
     "outputs_hidden": true
    }
   },
   "outputs": [
    {
     "name": "stdout",
     "output_type": "stream",
     "text": [
      "L 0.844513475894928\n",
      "I 0.7997623682022095\n",
      "D 0.5972391366958618\n",
      "Q 0.9403858780860901\n",
      "Y 0.5491309762001038\n",
      "L 0.844513475894928\n",
      "Y 0.5491309762001038\n",
      "Y 0.5491309762001038\n",
      "L 0.844513475894928\n",
      "L 0.844513475894928\n",
      "K 0.773987889289856\n",
      "T 0.7963484525680542\n",
      "I 0.7997623682022095\n",
      "K 0.773987889289856\n",
      "K 0.773987889289856\n",
      "S 0.8647920489311218\n",
      "G 0.6835780739784241\n",
      "Q 0.9403858780860901\n",
      "N 0.8822843432426453\n",
      "Q 0.9403858780860901\n",
      "Q 0.9403858780860901\n",
      "T 0.7963484525680542\n",
      "L 0.844513475894928\n",
      "K 0.773987889289856\n",
      "F 0.7452043890953064\n",
      "S 0.8647920489311218\n",
      "V 0.831758439540863\n",
      "A 0.8554148077964783\n",
      "G 0.6835780739784241\n",
      "P 0.13825160264968872\n",
      "S 0.8647920489311218\n",
      "T 0.7963484525680542\n",
      "M 0.8889304995536804\n",
      "L 0.844513475894928\n",
      "I 0.7997623682022095\n",
      "D 0.5972391366958618\n",
      "Q 0.9403858780860901\n",
      "Y 0.5491309762001038\n",
      "L 0.844513475894928\n",
      "Y 0.5491309762001038\n",
      "Y 0.5491309762001038\n",
      "A 0.8554148077964783\n",
      "S 0.8647920489311218\n",
      "K 0.773987889289856\n",
      "T 0.7963484525680542\n",
      "I 0.7997623682022095\n",
      "S 0.8647920489311218\n",
      "G 0.6835780739784241\n",
      "G 0.6835780739784241\n",
      "G 0.6835780739784241\n",
      "Q 0.9403858780860901\n",
      "R 0.7676140069961548\n",
      "Q 0.9403858780860901\n",
      "Q 0.9403858780860901\n",
      "T 0.7963484525680542\n",
      "Q 0.9403858780860901\n",
      "F 0.7452043890953064\n",
      "S 0.8647920489311218\n",
      "C 0.9101890325546265\n",
      "A 0.8554148077964783\n",
      "G 0.6835780739784241\n",
      "P 0.13825160264968872\n",
      "S 0.8647920489311218\n",
      "C 0.9101890325546265\n",
      "M 0.8889304995536804\n",
      "A 0.8554148077964783\n",
      "F 0.7452043890953064\n",
      "L 0.844513475894928\n",
      "I 0.7997623682022095\n",
      "D 0.5972391366958618\n",
      "Q 0.9403858780860901\n",
      "Y 0.5491309762001038\n",
      "L 0.844513475894928\n",
      "Y 0.5491309762001038\n",
      "Y 0.5491309762001038\n",
      "L 0.844513475894928\n",
      "S 0.8647920489311218\n",
      "K 0.773987889289856\n",
      "T 0.7963484525680542\n",
      "D 0.5972391366958618\n",
      "N 0.8822843432426453\n",
      "G 0.6835780739784241\n",
      "M 0.8889304995536804\n",
      "G 0.6835780739784241\n",
      "Q 0.9403858780860901\n",
      "N 0.8822843432426453\n",
      "Q 0.9403858780860901\n",
      "Q 0.9403858780860901\n",
      "T 0.7963484525680542\n",
      "L 0.844513475894928\n",
      "K 0.773987889289856\n",
      "F 0.7452043890953064\n",
      "S 0.8647920489311218\n",
      "V 0.831758439540863\n",
      "A 0.8554148077964783\n",
      "G 0.6835780739784241\n",
      "P 0.13825160264968872\n",
      "S 0.8647920489311218\n",
      "N 0.8822843432426453\n",
      "M 0.8889304995536804\n",
      "L 0.844513475894928\n",
      "L 0.844513475894928\n",
      "I 0.7997623682022095\n",
      "D 0.5972391366958618\n",
      "Q 0.9403858780860901\n",
      "Y 0.5491309762001038\n",
      "L 0.844513475894928\n",
      "Y 0.5491309762001038\n",
      "Y 0.5491309762001038\n",
      "L 0.844513475894928\n",
      "S 0.8647920489311218\n",
      "K 0.773987889289856\n",
      "T 0.7963484525680542\n",
      "I 0.7997623682022095\n",
      "N 0.8822843432426453\n",
      "P 0.13825160264968872\n",
      "S 0.8647920489311218\n",
      "L 0.844513475894928\n",
      "Q 0.9403858780860901\n",
      "L 0.844513475894928\n",
      "Q 0.9403858780860901\n",
      "Q 0.9403858780860901\n",
      "P 0.13825160264968872\n",
      "L 0.844513475894928\n",
      "K 0.773987889289856\n",
      "F 0.7452043890953064\n",
      "S 0.8647920489311218\n",
      "V 0.831758439540863\n",
      "A 0.8554148077964783\n",
      "G 0.6835780739784241\n",
      "P 0.13825160264968872\n",
      "S 0.8647920489311218\n",
      "N 0.8822843432426453\n",
      "M 0.8889304995536804\n",
      "A 0.8554148077964783\n",
      "L 0.844513475894928\n",
      "I 0.7997623682022095\n",
      "Q 0.9403858780860901\n",
      "Y 0.5491309762001038\n",
      "L 0.844513475894928\n",
      "Y 0.5491309762001038\n",
      "Y 0.5491309762001038\n",
      "L 0.844513475894928\n",
      "S 0.8647920489311218\n",
      "K 0.773987889289856\n",
      "T 0.7963484525680542\n",
      "F 0.7452043890953064\n",
      "K 0.773987889289856\n",
      "R 0.7676140069961548\n",
      "G 0.6835780739784241\n",
      "Q 0.9403858780860901\n",
      "N 0.8822843432426453\n",
      "R 0.7676140069961548\n",
      "Q 0.9403858780860901\n",
      "T 0.7963484525680542\n",
      "K 0.773987889289856\n",
      "F 0.7452043890953064\n",
      "S 0.8647920489311218\n",
      "V 0.831758439540863\n",
      "C 0.9101890325546265\n",
      "G 0.6835780739784241\n",
      "P 0.13825160264968872\n",
      "H 0.7664207220077515\n",
      "R 0.7676140069961548\n",
      "M 0.8889304995536804\n",
      "A 0.8554148077964783\n",
      "L 0.844513475894928\n",
      "I 0.7997623682022095\n",
      "D 0.5972391366958618\n",
      "Q 0.9403858780860901\n",
      "Y 0.5491309762001038\n",
      "L 0.844513475894928\n",
      "Y 0.5491309762001038\n",
      "Y 0.5491309762001038\n",
      "L 0.844513475894928\n",
      "S 0.8647920489311218\n",
      "K 0.773987889289856\n",
      "T 0.7963484525680542\n",
      "I 0.7997623682022095\n",
      "M 0.8889304995536804\n",
      "G 0.6835780739784241\n",
      "S 0.8647920489311218\n",
      "G 0.6835780739784241\n",
      "Q 0.9403858780860901\n",
      "N 0.8822843432426453\n",
      "Q 0.9403858780860901\n",
      "Q 0.9403858780860901\n",
      "T 0.7963484525680542\n",
      "L 0.844513475894928\n",
      "K 0.773987889289856\n",
      "F 0.7452043890953064\n",
      "S 0.8647920489311218\n",
      "V 0.831758439540863\n",
      "A 0.8554148077964783\n",
      "G 0.6835780739784241\n",
      "P 0.13825160264968872\n",
      "S 0.8647920489311218\n",
      "G 0.6835780739784241\n",
      "M 0.8889304995536804\n",
      "A 0.8554148077964783\n",
      "L 0.844513475894928\n",
      "I 0.7997623682022095\n",
      "D 0.5972391366958618\n",
      "Q 0.9403858780860901\n",
      "Y 0.5491309762001038\n",
      "L 0.844513475894928\n",
      "Y 0.5491309762001038\n",
      "Y 0.5491309762001038\n",
      "L 0.844513475894928\n",
      "S 0.8647920489311218\n",
      "K 0.773987889289856\n",
      "T 0.7963484525680542\n",
      "I 0.7997623682022095\n",
      "N 0.8822843432426453\n",
      "G 0.6835780739784241\n",
      "S 0.8647920489311218\n",
      "G 0.6835780739784241\n",
      "Q 0.9403858780860901\n",
      "N 0.8822843432426453\n",
      "G 0.6835780739784241\n",
      "M 0.8889304995536804\n",
      "I 0.7997623682022095\n",
      "L 0.844513475894928\n",
      "K 0.773987889289856\n",
      "F 0.7452043890953064\n",
      "S 0.8647920489311218\n",
      "Q 0.9403858780860901\n",
      "A 0.8554148077964783\n",
      "G 0.6835780739784241\n",
      "V 0.831758439540863\n",
      "S 0.8647920489311218\n",
      "N 0.8822843432426453\n",
      "M 0.8889304995536804\n",
      "A 0.8554148077964783\n",
      "L 0.844513475894928\n",
      "I 0.7997623682022095\n",
      "D 0.5972391366958618\n",
      "Q 0.9403858780860901\n",
      "Y 0.5491309762001038\n",
      "L 0.844513475894928\n",
      "Y 0.5491309762001038\n",
      "Y 0.5491309762001038\n",
      "L 0.844513475894928\n",
      "Q 0.9403858780860901\n",
      "K 0.773987889289856\n",
      "T 0.7963484525680542\n",
      "A 0.8554148077964783\n",
      "H 0.7664207220077515\n",
      "G 0.6835780739784241\n",
      "S 0.8647920489311218\n",
      "G 0.6835780739784241\n",
      "R 0.7676140069961548\n",
      "M 0.8889304995536804\n",
      "A 0.8554148077964783\n",
      "Q 0.9403858780860901\n",
      "T 0.7963484525680542\n",
      "A 0.8554148077964783\n",
      "Y 0.5491309762001038\n",
      "F 0.7452043890953064\n",
      "S 0.8647920489311218\n",
      "S 0.8647920489311218\n",
      "A 0.8554148077964783\n",
      "G 0.6835780739784241\n",
      "P 0.13825160264968872\n",
      "S 0.8647920489311218\n",
      "H 0.7664207220077515\n",
      "M 0.8889304995536804\n",
      "A 0.8554148077964783\n",
      "L 0.844513475894928\n",
      "I 0.7997623682022095\n",
      "D 0.5972391366958618\n",
      "Q 0.9403858780860901\n",
      "Y 0.5491309762001038\n",
      "L 0.844513475894928\n",
      "Y 0.5491309762001038\n",
      "Y 0.5491309762001038\n",
      "L 0.844513475894928\n",
      "S 0.8647920489311218\n",
      "K 0.773987889289856\n",
      "T 0.7963484525680542\n",
      "I 0.7997623682022095\n",
      "N 0.8822843432426453\n",
      "G 0.6835780739784241\n",
      "S 0.8647920489311218\n",
      "G 0.6835780739784241\n",
      "Q 0.9403858780860901\n",
      "A 0.8554148077964783\n",
      "Q 0.9403858780860901\n",
      "Q 0.9403858780860901\n",
      "K 0.773987889289856\n",
      "L 0.844513475894928\n",
      "K 0.773987889289856\n",
      "F 0.7452043890953064\n",
      "N 0.8822843432426453\n",
      "S 0.8647920489311218\n",
      "A 0.8554148077964783\n",
      "G 0.6835780739784241\n",
      "P 0.13825160264968872\n",
      "D 0.5972391366958618\n",
      "N 0.8822843432426453\n",
      "M 0.8889304995536804\n",
      "A 0.8554148077964783\n",
      "L 0.844513475894928\n",
      "I 0.7997623682022095\n",
      "Q 0.9403858780860901\n",
      "Y 0.5491309762001038\n",
      "L 0.844513475894928\n",
      "Y 0.5491309762001038\n",
      "Y 0.5491309762001038\n",
      "L 0.844513475894928\n",
      "K 0.773987889289856\n",
      "K 0.773987889289856\n",
      "T 0.7963484525680542\n",
      "I 0.7997623682022095\n",
      "G 0.6835780739784241\n",
      "T 0.7963484525680542\n",
      "P 0.13825160264968872\n",
      "G 0.6835780739784241\n",
      "Q 0.9403858780860901\n",
      "N 0.8822843432426453\n",
      "N 0.8822843432426453\n",
      "T 0.7963484525680542\n",
      "T 0.7963484525680542\n",
      "C 0.9101890325546265\n",
      "K 0.773987889289856\n",
      "F 0.7452043890953064\n",
      "S 0.8647920489311218\n",
      "V 0.831758439540863\n",
      "A 0.8554148077964783\n",
      "G 0.6835780739784241\n",
      "P 0.13825160264968872\n",
      "S 0.8647920489311218\n",
      "N 0.8822843432426453\n",
      "M 0.8889304995536804\n",
      "L 0.844513475894928\n",
      "L 0.844513475894928\n",
      "I 0.7997623682022095\n",
      "D 0.5972391366958618\n",
      "Q 0.9403858780860901\n",
      "Y 0.5491309762001038\n",
      "L 0.844513475894928\n",
      "Y 0.5491309762001038\n",
      "Y 0.5491309762001038\n",
      "L 0.844513475894928\n",
      "S 0.8647920489311218\n",
      "K 0.773987889289856\n",
      "T 0.7963484525680542\n",
      "I 0.7997623682022095\n",
      "Q 0.9403858780860901\n",
      "G 0.6835780739784241\n",
      "S 0.8647920489311218\n",
      "G 0.6835780739784241\n",
      "Q 0.9403858780860901\n",
      "N 0.8822843432426453\n",
      "Q 0.9403858780860901\n",
      "L 0.844513475894928\n",
      "T 0.7963484525680542\n",
      "L 0.844513475894928\n",
      "T 0.7963484525680542\n",
      "F 0.7452043890953064\n",
      "S 0.8647920489311218\n",
      "V 0.831758439540863\n",
      "A 0.8554148077964783\n",
      "G 0.6835780739784241\n",
      "P 0.13825160264968872\n",
      "S 0.8647920489311218\n",
      "N 0.8822843432426453\n",
      "M 0.8889304995536804\n",
      "A 0.8554148077964783\n",
      "L 0.844513475894928\n",
      "I 0.7997623682022095\n",
      "D 0.5972391366958618\n",
      "Q 0.9403858780860901\n",
      "Y 0.5491309762001038\n",
      "L 0.844513475894928\n",
      "Y 0.5491309762001038\n",
      "Y 0.5491309762001038\n",
      "V 0.831758439540863\n",
      "S 0.8647920489311218\n",
      "K 0.773987889289856\n",
      "T 0.7963484525680542\n",
      "N 0.8822843432426453\n",
      "G 0.6835780739784241\n",
      "S 0.8647920489311218\n",
      "G 0.6835780739784241\n",
      "Q 0.9403858780860901\n",
      "Q 0.9403858780860901\n",
      "Y 0.5491309762001038\n",
      "T 0.7963484525680542\n",
      "H 0.7664207220077515\n",
      "Y 0.5491309762001038\n",
      "F 0.7452043890953064\n",
      "S 0.8647920489311218\n",
      "V 0.831758439540863\n",
      "A 0.8554148077964783\n",
      "G 0.6835780739784241\n",
      "P 0.13825160264968872\n",
      "S 0.8647920489311218\n",
      "N 0.8822843432426453\n",
      "M 0.8889304995536804\n",
      "A 0.8554148077964783\n",
      "L 0.844513475894928\n",
      "I 0.7997623682022095\n",
      "D 0.5972391366958618\n",
      "Q 0.9403858780860901\n",
      "Y 0.5491309762001038\n",
      "L 0.844513475894928\n",
      "Y 0.5491309762001038\n",
      "Y 0.5491309762001038\n",
      "L 0.844513475894928\n",
      "S 0.8647920489311218\n",
      "Y 0.5491309762001038\n",
      "T 0.7963484525680542\n",
      "I 0.7997623682022095\n",
      "N 0.8822843432426453\n",
      "G 0.6835780739784241\n",
      "I 0.7997623682022095\n",
      "G 0.6835780739784241\n",
      "Q 0.9403858780860901\n",
      "R 0.7676140069961548\n",
      "Q 0.9403858780860901\n",
      "H 0.7664207220077515\n",
      "T 0.7963484525680542\n",
      "I 0.7997623682022095\n",
      "K 0.773987889289856\n",
      "F 0.7452043890953064\n",
      "S 0.8647920489311218\n",
      "V 0.831758439540863\n",
      "A 0.8554148077964783\n",
      "G 0.6835780739784241\n",
      "P 0.13825160264968872\n",
      "S 0.8647920489311218\n",
      "N 0.8822843432426453\n",
      "M 0.8889304995536804\n",
      "A 0.8554148077964783\n",
      "L 0.844513475894928\n",
      "I 0.7997623682022095\n",
      "D 0.5972391366958618\n",
      "Q 0.9403858780860901\n",
      "Y 0.5491309762001038\n",
      "L 0.844513475894928\n",
      "Y 0.5491309762001038\n",
      "Y 0.5491309762001038\n",
      "L 0.844513475894928\n",
      "S 0.8647920489311218\n",
      "K 0.773987889289856\n",
      "T 0.7963484525680542\n",
      "N 0.8822843432426453\n",
      "G 0.6835780739784241\n",
      "S 0.8647920489311218\n",
      "G 0.6835780739784241\n",
      "Q 0.9403858780860901\n",
      "N 0.8822843432426453\n",
      "Q 0.9403858780860901\n",
      "Q 0.9403858780860901\n",
      "C 0.9101890325546265\n",
      "L 0.844513475894928\n",
      "K 0.773987889289856\n",
      "F 0.7452043890953064\n",
      "S 0.8647920489311218\n",
      "V 0.831758439540863\n",
      "A 0.8554148077964783\n",
      "C 0.9101890325546265\n",
      "P 0.13825160264968872\n",
      "S 0.8647920489311218\n",
      "M 0.8889304995536804\n",
      "A 0.8554148077964783\n"
     ]
    }
   ],
   "source": [
    "for s in rets:\n",
    "    print(s, splice_n_pred(s))"
   ]
  },
  {
   "cell_type": "code",
   "execution_count": 323,
   "metadata": {
    "collapsed": true,
    "jupyter": {
     "outputs_hidden": true
    }
   },
   "outputs": [
    {
     "data": {
      "text/plain": [
       "['L',\n",
       " 'I',\n",
       " 'D',\n",
       " 'Q',\n",
       " 'Y',\n",
       " 'L',\n",
       " 'Y',\n",
       " 'Y',\n",
       " 'L',\n",
       " 'L',\n",
       " 'K',\n",
       " 'T',\n",
       " 'I',\n",
       " 'K',\n",
       " 'K',\n",
       " 'S',\n",
       " 'G',\n",
       " 'Q',\n",
       " 'N',\n",
       " 'Q',\n",
       " 'Q',\n",
       " 'T',\n",
       " 'L',\n",
       " 'K',\n",
       " 'F',\n",
       " 'S',\n",
       " 'V',\n",
       " 'A',\n",
       " 'G',\n",
       " 'P',\n",
       " 'S',\n",
       " 'T',\n",
       " 'M',\n",
       " 'L',\n",
       " 'I',\n",
       " 'D',\n",
       " 'Q',\n",
       " 'Y',\n",
       " 'L',\n",
       " 'Y',\n",
       " 'Y',\n",
       " 'A',\n",
       " 'S',\n",
       " 'K',\n",
       " 'T',\n",
       " 'I',\n",
       " 'S',\n",
       " 'G',\n",
       " 'G',\n",
       " 'G',\n",
       " 'Q',\n",
       " 'R',\n",
       " 'Q',\n",
       " 'Q',\n",
       " 'T',\n",
       " 'Q',\n",
       " 'F',\n",
       " 'S',\n",
       " 'C',\n",
       " 'A',\n",
       " 'G',\n",
       " 'P',\n",
       " 'S',\n",
       " 'C',\n",
       " 'M',\n",
       " 'A',\n",
       " 'F',\n",
       " 'L',\n",
       " 'I',\n",
       " 'D',\n",
       " 'Q',\n",
       " 'Y',\n",
       " 'L',\n",
       " 'Y',\n",
       " 'Y',\n",
       " 'L',\n",
       " 'S',\n",
       " 'K',\n",
       " 'T',\n",
       " 'D',\n",
       " 'N',\n",
       " 'G',\n",
       " 'M',\n",
       " 'G',\n",
       " 'Q',\n",
       " 'N',\n",
       " 'Q',\n",
       " 'Q',\n",
       " 'T',\n",
       " 'L',\n",
       " 'K',\n",
       " 'F',\n",
       " 'S',\n",
       " 'V',\n",
       " 'A',\n",
       " 'G',\n",
       " 'P',\n",
       " 'S',\n",
       " 'N',\n",
       " 'M',\n",
       " 'L',\n",
       " 'L',\n",
       " 'I',\n",
       " 'D',\n",
       " 'Q',\n",
       " 'Y',\n",
       " 'L',\n",
       " 'Y',\n",
       " 'Y',\n",
       " 'L',\n",
       " 'S',\n",
       " 'K',\n",
       " 'T',\n",
       " 'I',\n",
       " 'N',\n",
       " 'P',\n",
       " 'S',\n",
       " 'L',\n",
       " 'Q',\n",
       " 'L',\n",
       " 'Q',\n",
       " 'Q',\n",
       " 'P',\n",
       " 'L',\n",
       " 'K',\n",
       " 'F',\n",
       " 'S',\n",
       " 'V',\n",
       " 'A',\n",
       " 'G',\n",
       " 'P',\n",
       " 'S',\n",
       " 'N',\n",
       " 'M',\n",
       " 'A',\n",
       " 'L',\n",
       " 'I',\n",
       " 'Q',\n",
       " 'Y',\n",
       " 'L',\n",
       " 'Y',\n",
       " 'Y',\n",
       " 'L',\n",
       " 'S',\n",
       " 'K',\n",
       " 'T',\n",
       " 'F',\n",
       " 'K',\n",
       " 'R',\n",
       " 'G',\n",
       " 'Q',\n",
       " 'N',\n",
       " 'R',\n",
       " 'Q',\n",
       " 'T',\n",
       " 'K',\n",
       " 'F',\n",
       " 'S',\n",
       " 'V',\n",
       " 'C',\n",
       " 'G',\n",
       " 'P',\n",
       " 'H',\n",
       " 'R',\n",
       " 'M',\n",
       " 'A',\n",
       " 'L',\n",
       " 'I',\n",
       " 'D',\n",
       " 'Q',\n",
       " 'Y',\n",
       " 'L',\n",
       " 'Y',\n",
       " 'Y',\n",
       " 'L',\n",
       " 'S',\n",
       " 'K',\n",
       " 'T',\n",
       " 'I',\n",
       " 'M',\n",
       " 'G',\n",
       " 'S',\n",
       " 'G',\n",
       " 'Q',\n",
       " 'N',\n",
       " 'Q',\n",
       " 'Q',\n",
       " 'T',\n",
       " 'L',\n",
       " 'K',\n",
       " 'F',\n",
       " 'S',\n",
       " 'V',\n",
       " 'A',\n",
       " 'G',\n",
       " 'P',\n",
       " 'S',\n",
       " 'G',\n",
       " 'M',\n",
       " 'A',\n",
       " 'L',\n",
       " 'I',\n",
       " 'D',\n",
       " 'Q',\n",
       " 'Y',\n",
       " 'L',\n",
       " 'Y',\n",
       " 'Y',\n",
       " 'L',\n",
       " 'S',\n",
       " 'K',\n",
       " 'T',\n",
       " 'I',\n",
       " 'N',\n",
       " 'G',\n",
       " 'S',\n",
       " 'G',\n",
       " 'Q',\n",
       " 'N',\n",
       " 'G',\n",
       " 'M',\n",
       " 'I',\n",
       " 'L',\n",
       " 'K',\n",
       " 'F',\n",
       " 'S',\n",
       " 'Q',\n",
       " 'A',\n",
       " 'G',\n",
       " 'V',\n",
       " 'S',\n",
       " 'N',\n",
       " 'M',\n",
       " 'A',\n",
       " 'L',\n",
       " 'I',\n",
       " 'D',\n",
       " 'Q',\n",
       " 'Y',\n",
       " 'L',\n",
       " 'Y',\n",
       " 'Y',\n",
       " 'L',\n",
       " 'Q',\n",
       " 'K',\n",
       " 'T',\n",
       " 'A',\n",
       " 'H',\n",
       " 'G',\n",
       " 'S',\n",
       " 'G',\n",
       " 'R',\n",
       " 'M',\n",
       " 'A',\n",
       " 'Q',\n",
       " 'T',\n",
       " 'A',\n",
       " 'Y',\n",
       " 'F',\n",
       " 'S',\n",
       " 'S',\n",
       " 'A',\n",
       " 'G',\n",
       " 'P',\n",
       " 'S',\n",
       " 'H',\n",
       " 'M',\n",
       " 'A',\n",
       " 'L',\n",
       " 'I',\n",
       " 'D',\n",
       " 'Q',\n",
       " 'Y',\n",
       " 'L',\n",
       " 'Y',\n",
       " 'Y',\n",
       " 'L',\n",
       " 'S',\n",
       " 'K',\n",
       " 'T',\n",
       " 'I',\n",
       " 'N',\n",
       " 'G',\n",
       " 'S',\n",
       " 'G',\n",
       " 'Q',\n",
       " 'A',\n",
       " 'Q',\n",
       " 'Q',\n",
       " 'K',\n",
       " 'L',\n",
       " 'K',\n",
       " 'F',\n",
       " 'N',\n",
       " 'S',\n",
       " 'A',\n",
       " 'G',\n",
       " 'P',\n",
       " 'D',\n",
       " 'N',\n",
       " 'M',\n",
       " 'A',\n",
       " 'L',\n",
       " 'I',\n",
       " 'Q',\n",
       " 'Y',\n",
       " 'L',\n",
       " 'Y',\n",
       " 'Y',\n",
       " 'L',\n",
       " 'K',\n",
       " 'K',\n",
       " 'T',\n",
       " 'I',\n",
       " 'G',\n",
       " 'T',\n",
       " 'P',\n",
       " 'G',\n",
       " 'Q',\n",
       " 'N',\n",
       " 'N',\n",
       " 'T',\n",
       " 'T',\n",
       " 'C',\n",
       " 'K',\n",
       " 'F',\n",
       " 'S',\n",
       " 'V',\n",
       " 'A',\n",
       " 'G',\n",
       " 'P',\n",
       " 'S',\n",
       " 'N',\n",
       " 'M',\n",
       " 'L',\n",
       " 'L',\n",
       " 'I',\n",
       " 'D',\n",
       " 'Q',\n",
       " 'Y',\n",
       " 'L',\n",
       " 'Y',\n",
       " 'Y',\n",
       " 'L',\n",
       " 'S',\n",
       " 'K',\n",
       " 'T',\n",
       " 'I',\n",
       " 'Q',\n",
       " 'G',\n",
       " 'S',\n",
       " 'G',\n",
       " 'Q',\n",
       " 'N',\n",
       " 'Q',\n",
       " 'L',\n",
       " 'T',\n",
       " 'L',\n",
       " 'T',\n",
       " 'F',\n",
       " 'S',\n",
       " 'V',\n",
       " 'A',\n",
       " 'G',\n",
       " 'P',\n",
       " 'S',\n",
       " 'N',\n",
       " 'M',\n",
       " 'A',\n",
       " 'L',\n",
       " 'I',\n",
       " 'D',\n",
       " 'Q',\n",
       " 'Y',\n",
       " 'L',\n",
       " 'Y',\n",
       " 'Y',\n",
       " 'V',\n",
       " 'S',\n",
       " 'K',\n",
       " 'T',\n",
       " 'N',\n",
       " 'G',\n",
       " 'S',\n",
       " 'G',\n",
       " 'Q',\n",
       " 'Q',\n",
       " 'Y',\n",
       " 'T',\n",
       " 'H',\n",
       " 'Y',\n",
       " 'F',\n",
       " 'S',\n",
       " 'V',\n",
       " 'A',\n",
       " 'G',\n",
       " 'P',\n",
       " 'S',\n",
       " 'N',\n",
       " 'M',\n",
       " 'A',\n",
       " 'L',\n",
       " 'I',\n",
       " 'D',\n",
       " 'Q',\n",
       " 'Y',\n",
       " 'L',\n",
       " 'Y',\n",
       " 'Y',\n",
       " 'L',\n",
       " 'S',\n",
       " 'Y',\n",
       " 'T',\n",
       " 'I',\n",
       " 'N',\n",
       " 'G',\n",
       " 'I',\n",
       " 'G',\n",
       " 'Q',\n",
       " 'R',\n",
       " 'Q',\n",
       " 'H',\n",
       " 'T',\n",
       " 'I',\n",
       " 'K',\n",
       " 'F',\n",
       " 'S',\n",
       " 'V',\n",
       " 'A',\n",
       " 'G',\n",
       " 'P',\n",
       " 'S',\n",
       " 'N',\n",
       " 'M',\n",
       " 'A',\n",
       " 'L',\n",
       " 'I',\n",
       " 'D',\n",
       " 'Q',\n",
       " 'Y',\n",
       " 'L',\n",
       " 'Y',\n",
       " 'Y',\n",
       " 'L',\n",
       " 'S',\n",
       " 'K',\n",
       " 'T',\n",
       " 'N',\n",
       " 'G',\n",
       " 'S',\n",
       " 'G',\n",
       " 'Q',\n",
       " 'N',\n",
       " 'Q',\n",
       " 'Q',\n",
       " 'C',\n",
       " 'L',\n",
       " 'K',\n",
       " 'F',\n",
       " 'S',\n",
       " 'V',\n",
       " 'A',\n",
       " 'C',\n",
       " 'P',\n",
       " 'S',\n",
       " 'M',\n",
       " 'A']"
      ]
     },
     "execution_count": 323,
     "metadata": {},
     "output_type": "execute_result"
    }
   ],
   "source": [
    "rets"
   ]
  },
  {
   "cell_type": "code",
   "execution_count": 368,
   "metadata": {},
   "outputs": [
    {
     "data": {
      "text/plain": [
       "Text(0.5, 0, 'Data')"
      ]
     },
     "execution_count": 368,
     "metadata": {},
     "output_type": "execute_result"
    },
    {
     "data": {
      "image/png": "[encoded data removed]",
      "text/plain": [
       "<Figure size 432x288 with 1 Axes>"
      ]
     },
     "metadata": {
      "needs_background": "light"
     },
     "output_type": "display_data"
    }
   ],
   "source": [
    "import matplotlib.pyplot as plt\n",
    "import numpy as np\n",
    "%matplotlib inline\n",
    "x = []\n",
    "den.eval()\n",
    "for i in range(300):\n",
    "    x += [splice_n_pred(u) for u in den.generate(2)]\n",
    "    x = [i for i in x if i > 0.5]\n",
    "plt.hist(x)  # `density=False` would make counts\n",
    "plt.ylabel('Count (out of 3000)')\n",
    "plt.xlabel('Data')\n"
   ]
  },
  {
   "cell_type": "code",
   "execution_count": 370,
   "metadata": {},
   "outputs": [
    {
     "name": "stdout",
     "output_type": "stream",
     "text": [
      "46\n"
     ]
    }
   ],
   "source": [
    "print(len(x))"
   ]
  },
  {
   "cell_type": "code",
   "execution_count": 364,
   "metadata": {},
   "outputs": [
    {
     "data": {
      "image/png": "[encoded data removed]",
      "text/plain": [
       "<Figure size 432x288 with 1 Axes>"
      ]
     },
     "metadata": {
      "needs_background": "light"
     },
     "output_type": "display_data"
    }
   ],
   "source": []
  },
  {
   "cell_type": "code",
   "execution_count": 331,
   "metadata": {},
   "outputs": [
    {
     "data": {
      "text/plain": [
       "Text(0.5, 0, 'Data')"
      ]
     },
     "execution_count": 331,
     "metadata": {},
     "output_type": "execute_result"
    },
    {
     "data": {
      "image/png": "[encoded data removed]",
      "text/plain": [
       "<Figure size 432x288 with 1 Axes>"
      ]
     },
     "metadata": {
      "needs_background": "light"
     },
     "output_type": "display_data"
    }
   ],
   "source": [
    "plt.hist(x, density=True, bins=30)  # `density=False` would make counts\n",
    "plt.ylabel('Probability')\n",
    "plt.xlabel('Data')"
   ]
  },
  {
   "cell_type": "code",
   "execution_count": 398,
   "metadata": {},
   "outputs": [
    {
     "data": {
      "text/plain": [
       "['CAYICNCSWADKALLFHTNNQCADVVPWRMK',\n",
       " 'VSNDAAHMVRVESKTYFLSRCYMKDGCWQVCQRL',\n",
       " 'EIMRLYNTWITSHWELLYQPVDYIITCANAFC',\n",
       " 'WLLHMVRAQYFDWKHKALPGRCEHQKARYI',\n",
       " 'KAPHAQEIIWFRKQFPSYWSGAFHLCNRCFF',\n",
       " 'RLGVRHNIHWWSVAYYQADSTVAWCYQHYTW',\n",
       " 'TSQERLERAPVVNQAGGNHWMYVYQARDLLALQN',\n",
       " 'PQRMRSPYQAKMHQWIKCYKHRETKALVQYLLID',\n",
       " 'TNNFSIQKNWVTKNVYPMMCGHIVFIVYIAAK',\n",
       " 'EINHDPQWLCYWATQLTWEFQMDQVTHRMWDSPI']"
      ]
     },
     "execution_count": 398,
     "metadata": {},
     "output_type": "execute_result"
    }
   ],
   "source": [
    "den.generate(2)"
   ]
  },
  {
   "cell_type": "code",
   "execution_count": 411,
   "metadata": {},
   "outputs": [
    {
     "name": "stdout",
     "output_type": "stream",
     "text": [
      "Seq,edit_dist,priority,mut_start,mut_end_wt,oracle_used,explorer_generator,score_<oracle_name>,score_<another_oracle>\n",
      "\n",
      "LICQYLYNLSKTICGAAQARNSLKFSCAGPSNMQ,11,2,438,472,RNN_pack_0,DEN_RNN_pack_0_0,0.934835613,\n",
      "\n",
      "LIDQYLYYLTTTNFEGQNAHTVKFSVAGDRNMA,10,2,438,472,RNN_pack_0,DEN_RNN_pack_0_0,0.945567012,\n",
      "\n",
      "LADQYLYNLHKTIFGVGYNRSSLKFSVAGSNMA,10,2,438,472,RNN_pack_0,DEN_RNN_pack_0_0,0.89563781,\n",
      "\n",
      "LTQYLYHLKTIYGSQQNATQKFSVAGPSKMA,10,2,438,472,RNN_pack_0,DEN_RNN_pack_0_0,0.805679917,\n",
      "\n",
      "LIDQYLYYLSRTIIWWKNTQTLKFSIAGPSHMAC,10,2,438,472,RNN_pack_0,DEN_RNN_pack_0_0,0.79045397,\n",
      "\n",
      "LICQYLYYLSKTYTGSGNNQPPLMFSQSGPSNYA,10,1,438,472,RNN_pack_0,DEN_RNN_pack_0_0,0.76862973,\n",
      "\n",
      "LIDQYLYYLSMSDGGSGQSAQTLMFSVAGGKMA,10,1,438,472,RNN_pack_0,DEN_RNN_pack_0_0,0.760783315,\n",
      "\n",
      "LIDQYLYYLSKTGPGSRSNQNSLKFSVQNISNMA,9,2,438,472,RNN_pack_0,DEN_RNN_pack_0_0,0.957843542,\n",
      "\n",
      "LIDQYLYYLIKTIGQVQNLQTLKFSIGGRTNMA,9,2,438,472,RNN_pack_0,DEN_RNN_pack_0_0,0.947821915,\n",
      "\n",
      "LIDQYLYYLSKTVGGSGDNDQHLAFSAGPKVMA,9,2,438,472,RNN_pack_0,DEN_RNN_pack_0_0,0.928537488,\n",
      "\n",
      "LADQYLYYLSGAYQHSGNLQTAKFSVAGPSNMA,9,2,438,472,RNN_pack_0,DEN_RNN_pack_0_0,0.905854166,\n",
      "\n",
      "LIDQYLYYSSQTSNAIGQNQQMAKFSVCGPSNMS,9,2,438,472,RNN_pack_0,DEN_RNN_pack_0_0,0.901814878,\n",
      "\n",
      "LIDQYLYCLGKTGKSGQQDCLKFSVAGPSNMS,9,1,438,472,RNN_pack_0,DEN_RNN_pack_0_0,0.898025513,\n",
      "\n",
      "LIDQYLYYLSKAINISGQNQSTMFSVATGKSMR,9,1,438,472,RNN_pack_0,DEN_RNN_pack_0_0,0.868969619,\n",
      "\n",
      "LIDQYLYYLSKFTGGSGQMQTEKFSVAGPHNVAM,9,1,438,472,RNN_pack_0,DEN_RNN_pack_0_0,0.849936843,\n",
      "\n",
      "LIDQYLYYLSKFIVGSAQNQATWFSVAGGSQFA,9,1,438,472,RNN_pack_0,DEN_RNN_pack_0_0,0.837891638,\n",
      "\n",
      "LCDQYLYYLANYAGGSGGYQQTAKFSVAGPSNMA,9,1,438,472,RNN_pack_0,DEN_RNN_pack_0_0,0.808094323,\n",
      "\n",
      "LTDQYLYYLSKTFNRSKTNLQTLKFSRAGPSEMAC,9,1,438,472,RNN_pack_0,DEN_RNN_pack_0_0,0.800920844,\n",
      "\n",
      "LIDQYLYLSKTINVWVQNQIESWFSAGPSNMA,9,1,438,472,RNN_pack_0,DEN_RNN_pack_0_0,0.787049353,\n",
      "\n",
      "LCDQYLYLSKAIEGGQKRQTFKFSVAGPSNMP,9,1,438,472,RNN_pack_0,DEN_RNN_pack_0_0,0.767921925,\n",
      "\n",
      "LTDQYLYYLSKTINGSRQNLCTFKFSGAGNGSMA,9,1,438,472,RNN_pack_0,DEN_RNN_pack_0_0,0.760161281,\n",
      "\n",
      "LIDQYLYYLSKRSGGIQQRQQTLKFSVAGHTNMN,9,1,438,472,RNN_pack_0,DEN_RNN_pack_0_0,0.757982314,\n",
      "\n",
      "LIDQYLYYGNKTINGSGQLQNHLKFCVAGGSRMAC,9,1,438,472,RNN_pack_0,DEN_RNN_pack_0_0,0.755899131,\n",
      "\n",
      "LMDQYLYYVSKTIPSSGQNVALLHFSVAGPSNMAR,9,1,438,472,RNN_pack_0,DEN_RNN_pack_0_0,0.755172431,\n",
      "\n",
      "LIDQYLYYLSKTNGSNGNNTVKFSVARPDNMAA,9,1,438,472,RNN_pack_0,DEN_RNN_pack_0_0,0.754217029,\n",
      "\n",
      "LIDQYLYCLSKTINGMGKNQQSLRFSVAQGSDRA,9,1,438,472,RNN_pack_0,DEN_RNN_pack_0_0,0.753361464,\n",
      "\n",
      "LIDQYLYLSKTFMGSGQHQQMKFSVAGGGNMA,8,2,438,472,RNN_pack_0,DEN_RNN_pack_0_0,0.979712605,\n",
      "\n",
      "LIDQYLYYLSKTVNGSGQNQVRLKFSSAGGYNMMR,8,2,438,472,RNN_pack_0,DEN_RNN_pack_0_0,0.978292286,\n",
      "\n",
      "LIDQYLYYLSKSINLMGQNHGRLKFSAGPSFMA,8,2,438,472,RNN_pack_0,DEN_RNN_pack_0_0,0.962516904,\n",
      "\n",
      "LIDQYLFQLSKTKNHSGQSQATLKFSIAGKSNMA,8,2,438,472,RNN_pack_0,DEN_RNN_pack_0_0,0.954113305,\n",
      "\n",
      "LIDQYLYYLSKTILNDGQQGTLKFSVAGPENIAR,8,2,438,472,RNN_pack_0,DEN_RNN_pack_0_0,0.93602258,\n",
      "\n",
      "LCDQYLYISKTINQSGMNQTRKFSVAGPSRMA,8,2,438,472,RNN_pack_0,DEN_RNN_pack_0_0,0.932913482,\n",
      "\n",
      "LIDQYLYYLSKTDNVQFNQQTMKFSVAGPQSMA,8,2,438,472,RNN_pack_0,DEN_RNN_pack_0_0,0.926281095,\n",
      "\n",
      "LDQYLYYLSKTINGSGQFYLKKFSVAGGSHMA,8,2,438,472,RNN_pack_0,DEN_RNN_pack_0_0,0.924144745,\n",
      "\n",
      "LIDQYLYYLQKTGVSSQNESTLKFSVAGKSNMA,8,2,438,472,RNN_pack_0,DEN_RNN_pack_0_0,0.922141314,\n",
      "\n",
      "LIDQYLYYLSKTISGSTQRQQVLKFSRGPKNMR,8,1,438,472,RNN_pack_0,DEN_RNN_pack_0_0,0.921136618,\n",
      "\n",
      "LIDQYLYYLSKTITPAGQNAQTLKFTVAGESDMF,8,1,438,472,RNN_pack_0,DEN_RNN_pack_0_0,0.911632776,\n",
      "\n",
      "LIDQYLYNLKTFLDSSHNQQTLKFSVAGPSNMR,8,1,438,472,RNN_pack_0,DEN_RNN_pack_0_0,0.90880841,\n",
      "\n",
      "LIDQYLYYLSKTINGSGQQSQTAKFSVIGENNMCY,8,1,438,472,RNN_pack_0,DEN_RNN_pack_0_0,0.908128083,\n",
      "\n",
      "LIDQYLFYLSKAIMGSRQNQFGFKFSTAGPSNMA,8,2,438,472,RNN_pack_0,DEN_RNN_pack_0_0,0.906973422,\n",
      "\n",
      "LDQYLYYLKKTINRSGKNQPSLKFSLPGPSNMA,8,2,438,472,RNN_pack_0,DEN_RNN_pack_0_0,0.90495044,\n",
      "\n",
      "LIDQYLYCLSKTVNGYGQNAQTLMFSVAGPRHVA,8,2,438,472,RNN_pack_0,DEN_RNN_pack_0_0,0.902664065,\n",
      "\n",
      "LIDQYLYLCRTINGSAQQQFTLTFSVAGPSNMR,8,2,438,472,RNN_pack_0,DEN_RNN_pack_0_0,0.902229309,\n",
      "\n",
      "LIDQYLYYLSKTIFNSADNQQTLAFSVAGTQNMC,8,1,438,472,RNN_pack_0,DEN_RNN_pack_0_0,0.886938334,\n",
      "\n",
      "LIDQYLFYLYTINGTGDQPGTLKFSVAGPSNMA,8,1,438,472,RNN_pack_0,DEN_RNN_pack_0_0,0.885774076,\n",
      "\n",
      "IDQYLYYLSKTYRGSGQNQRHLKFSVAQGSNMR,8,1,438,472,RNN_pack_0,DEN_RNN_pack_0_0,0.87132442,\n",
      "\n",
      "LIDQYLYYLDKTINQSGTNQTLTFSVPGPSRMM,8,1,438,472,RNN_pack_0,DEN_RNN_pack_0_0,0.8500278,\n",
      "\n",
      "LIDQYLYYLSKTVNGSEANSGTLTFCVAGGSNMA,8,1,438,472,RNN_pack_0,DEN_RNN_pack_0_0,0.844180465,\n",
      "\n",
      "LIDQYLYYASKTQNGSTQNQHDQKFSCAGPSNMR,8,1,438,472,RNN_pack_0,DEN_RNN_pack_0_0,0.834438384,\n",
      "\n",
      "LIDQYLYYLSKTINGSQRNQYLKFSLAGPRAMI,8,1,438,472,RNN_pack_0,DEN_RNN_pack_0_0,0.830720901,\n",
      "\n",
      "LSDQYLYYLSKTINVRGQNQKLKFSKAGPSYMQ,8,1,438,472,RNN_pack_0,DEN_RNN_pack_0_0,0.819978893,\n",
      "\n",
      "LCDQYLYYLSTMINMTGQNVQTHKFSVAGPQNMA,8,1,438,472,RNN_pack_0,DEN_RNN_pack_0_0,0.811748505,\n",
      "\n",
      "ICQYLYYLSKTQEGSGQNQQVEFSVAGPPNMA,8,1,438,472,RNN_pack_0,DEN_RNN_pack_0_0,0.78791374,\n",
      "\n",
      "LIDQYLYYLSKTQQGSGRDQQGLKFSKGPSNNA,8,1,438,472,RNN_pack_0,DEN_RNN_pack_0_0,0.776492476,\n",
      "\n",
      "ICQYLYYLSKTINGLGEKQTLKFQVSGPSNMA,8,1,438,472,RNN_pack_0,DEN_RNN_pack_0_0,0.771124125,\n",
      "\n",
      "LIDQYLYIGSKTINYSGQLMQYLKFSVAGNSNMS,8,1,438,472,RNN_pack_0,DEN_RNN_pack_0_0,0.757081807,\n",
      "\n",
      "LCDQYLYYLSKTGTGSGQNNRTLKFSVAGPNNMAR,7,2,438,472,RNN_pack_0,DEN_RNN_pack_0_0,0.977793276,\n",
      "\n",
      "LIDQYLYCLSKTVAGSGSSQQTLKFSVAGSVNMA,7,2,438,472,RNN_pack_0,DEN_RNN_pack_0_0,0.975903273,\n",
      "\n",
      "LIDQYLYYLSKTTQISGQREQPHKFSVAGPSNMA,7,2,438,472,RNN_pack_0,DEN_RNN_pack_0_0,0.973812521,\n",
      "\n",
      "LICQYLYYGSKTTMGQGQRQHTLKFSVAGPSNMA,7,2,438,472,RNN_pack_0,DEN_RNN_pack_0_0,0.9724105,\n",
      "\n",
      "LIDQYLYYLKKTANGSGQEKQTMCFSVSGPSNMA,7,2,438,472,RNN_pack_0,DEN_RNN_pack_0_0,0.96420902,\n",
      "\n",
      "LIDQYLYSLSKTINQGGQNQVTLKFSVSGPSCMK,7,2,438,472,RNN_pack_0,DEN_RNN_pack_0_0,0.955422103,\n",
      "\n",
      "LIDQYLYYLSKTWNGSGNQQPYKFSVAGARNMN,7,2,438,472,RNN_pack_0,DEN_RNN_pack_0_0,0.942752302,\n",
      "\n",
      "LNDQYLYYLSKTCYGSKQNQHTLSFSVAGPSNMI,7,2,438,472,RNN_pack_0,DEN_RNN_pack_0_0,0.922997177,\n",
      "\n",
      "LIDQYLYYVSITGNGSGQRQQPLKFSVAGGSNMC,7,2,438,472,RNN_pack_0,DEN_RNN_pack_0_0,0.919652462,\n",
      "\n",
      "LIDQYLYYLSKTSNTSPNNQQTLKFSVAGPHLMA,6,2,438,472,RNN_pack_0,DEN_RNN_pack_0_0,0.979495287,\n",
      "\n",
      "LIDQYLYNLSKTTIGSGANQHSLKFSVAGPSNMA,6,2,438,472,RNN_pack_0,DEN_RNN_pack_0_0,0.975948155,\n",
      "\n",
      "LIDQYLYYLSKTSFGSMQNQHTLKFSIAGPSEMA,6,2,438,472,RNN_pack_0,DEN_RNN_pack_0_0,0.969663799,\n",
      "\n",
      "LIDQYLFYLSKTIWGSGQNQQTRKFSVGGNSVMA,6,2,438,472,RNN_pack_0,DEN_RNN_pack_0_0,0.955895364,\n",
      "\n",
      "LIDQYLYLLSKTLSGSGQNNQLKFSVAGPSMA 0,6,2,438,472,RNN_pack_0,DEN_RNN_pack_0_0,0.954304338,\n",
      "\n",
      "LIDQYLYYLSKTMLGSGQNGQFLKFSVAGNPNMA,6,2,438,472,RNN_pack_0,DEN_RNN_pack_0_0,0.953183532,\n",
      "\n",
      "LIDQYLYYLSKTSNGSGSNQLTLKFSVCGPSLMK,6,2,438,472,RNN_pack_0,DEN_RNN_pack_0_0,0.950019538,\n",
      "\n",
      "LCDQYLYYLSKTQNGSGSAQQTLKFSVAGPFNMV,6,1,438,472,RNN_pack_0,DEN_RNN_pack_0_0,0.940086365,\n",
      "\n",
      "LIDQYLYYLSKTINGSPQNIKTSKFSVAGYLNMA,6,1,438,472,RNN_pack_0,DEN_RNN_pack_0_0,0.939300716,\n",
      "\n",
      "LQDQYLYYLSKTSNGSGQNEQQLKFSVAGPVYMA,6,1,438,472,RNN_pack_0,DEN_RNN_pack_0_0,0.924290061,\n",
      "\n",
      "LMDQYLYYLSKVILGSGQNQQTHKFSQAGPSNVA,6,1,438,472,RNN_pack_0,DEN_RNN_pack_0_0,0.921308339,\n",
      "\n",
      "LCDQYLYYLSKTINGSGQNIRTLKFSICQPSNMA,6,1,438,472,RNN_pack_0,DEN_RNN_pack_0_0,0.921074629,\n",
      "\n",
      "LIDQYLYYLSKFSNGSGQMQQTLKFVVAGPHNM,6,1,438,472,RNN_pack_0,DEN_RNN_pack_0_0,0.918450892,\n",
      "\n",
      "LIDQYLYYLSKTINGSGQKQTLKFSVAGSVMM 0,5,1,438,472,RNN_pack_0,DEN_RNN_pack_0_0,0.980910599,\n",
      "\n",
      "LIDQYLYYLSKTIQVSGQRQCTLKFSVAGPSNMR,5,1,438,472,RNN_pack_0,DEN_RNN_pack_0_0,0.979303241,\n",
      "\n",
      "LIDQYLYYLFKTIAGGQGQQTLKFSVAGPYNMA,5,1,438,472,RNN_pack_0,DEN_RNN_pack_0_0,0.977956653,\n",
      "\n",
      "LIDQYLYYLSKTINGSGQQHATRKFSAAGPSNMA,5,1,438,472,RNN_pack_0,DEN_RNN_pack_0_0,0.970399082,\n",
      "\n",
      "LMDQYLYYVSKTISGSGQNQQTMKFSVMGPSNMA,5,1,438,472,RNN_pack_0,DEN_RNN_pack_0_0,0.962025762,\n",
      "\n",
      "LIDQYLYYLSKTSGGSGQNPIHLKFSVAGPSNMA,5,1,438,472,RNN_pack_0,DEN_RNN_pack_0_0,0.95985657,\n",
      "\n",
      "LIDQYLYYLSKTYNASGFNQKTLKFSVAGSSNMA,5,1,438,472,RNN_pack_0,DEN_RNN_pack_0_0,0.955295563,\n",
      "\n",
      "LIDQYLYYLSKTINGGGQPQQTSKFSVAGCSNMC,5,1,438,472,RNN_pack_0,DEN_RNN_pack_0_0,0.951513767,\n",
      "\n",
      "LIDQYLYYLSKTLQGIEQNQQYLKFSVAGPSNMA,5,1,438,472,RNN_pack_0,DEN_RNN_pack_0_0,0.927653372,\n",
      "\n",
      "LIDQYLYYLQKTYNGSGQNQTTLKFSQAGPSCMA,5,1,438,472,RNN_pack_0,DEN_RNN_pack_0_0,0.927308619,\n",
      "\n",
      "LVDQYLYYLSKTINGDGQNGQLRKFSVAGPSNMA,5,1,438,472,RNN_pack_0,DEN_RNN_pack_0_0,0.924531996,\n",
      "\n",
      "LIDQYLYYLSKTINPSGQNQQQLKFSAGPSNMSR,5,1,438,472,RNN_pack_0,DEN_RNN_pack_0_0,0.918234646,\n",
      "\n",
      "LIDQYLYCSSKTINSGYNKQTLKFSVAGPSNMA,5,1,438,472,RNN_pack_0,DEN_RNN_pack_0_0,0.91717881,\n",
      "\n",
      "LIDQYLYLSKTPNGSGQNQDGLMFSVAGPSNMA,5,1,438,472,RNN_pack_0,DEN_RNN_pack_0_0,0.906886637,\n",
      "\n",
      "LIDQYLYYLSKTIGSGGNPQTLKFSVAGPDNMA,4,1,438,472,RNN_pack_0,DEN_RNN_pack_0_0,0.973530412,\n",
      "\n",
      "LIDQYLYSLNKTINGSGQNQQTMKFSCAGPSNMA,4,1,438,472,RNN_pack_0,DEN_RNN_pack_0_0,0.965817392,\n",
      "\n",
      "LIDQYLYYLSKSQFGSGQNNQTLKFSVAGPSNMA,4,1,438,472,RNN_pack_0,DEN_RNN_pack_0_0,0.946966588,\n",
      "\n",
      "LIDQYLYLLSKTINGSGQTQQTLKYSVAGPSTMA,4,1,438,472,RNN_pack_0,DEN_RNN_pack_0_0,0.944763303,\n",
      "\n",
      "LIDQYLYYLSKTITGSGHMQQTLKYSVAGPSNMA,4,1,438,472,RNN_pack_0,DEN_RNN_pack_0_0,0.94450897,\n",
      "\n",
      "LICQYLYGLSKTINGSGQYQQLLKFSVAGPSNMA,4,1,438,472,RNN_pack_0,DEN_RNN_pack_0_0,0.939534962,\n",
      "\n",
      "LIDQYLYYSSKTIKGAGQNQKTLKFSVAGPSNMA,4,1,438,472,RNN_pack_0,DEN_RNN_pack_0_0,0.90752238,\n",
      "\n",
      "LIDQYLYYLSKTINGSGRNQQYLKFSVAGPLNMA,3,1,438,472,RNN_pack_0,DEN_RNN_pack_0_0,0.978589594,\n"
     ]
    }
   ],
   "source": [
    "import smart_open\n",
    "import pandas as pd\n",
    "with open('variants.csv') as fin:\n",
    "        with smart_open.open('s3://pandoras-bucket/data/L7_hackathon/generators/generated_variants/tiwa_variants_0', 'w') as fout:\n",
    "            for line in fin:\n",
    "                fout.write(line)"
   ]
  },
  {
   "cell_type": "code",
   "execution_count": 402,
   "metadata": {},
   "outputs": [
    {
     "data": {
      "text/plain": [
       "<All keys matched successfully>"
      ]
     },
     "execution_count": 402,
     "metadata": {},
     "output_type": "execute_result"
    }
   ],
   "source": [
    "den.load_state_dict(torch.load('./saved_ml_data/saved_models/den_1/checkpoint0.pth'))\n"
   ]
  },
  {
   "cell_type": "code",
   "execution_count": 403,
   "metadata": {},
   "outputs": [
    {
     "data": {
      "text/plain": [
       "['LIDQWMYYLWKDINGIGTGQQTLPFCVAGPSNMA',\n",
       " 'WIDPYQYWQEKTTNGSGQNQQTLKFSKAGPGNMAM',\n",
       " 'HIFNYLYYLGKTKNGSGQNQAFHRDSARPSNMF',\n",
       " 'LIDQLYYLSKTINVSGQNWQQLKFSTAQWSKML',\n",
       " 'TMDQYLKPSKTINRSGNNQQTKKDFDDGPSNMAG',\n",
       " 'LIDQYYYYLDRQIGGSGQNQQRHWMSVAGPSNFA',\n",
       " 'LIQYNSDMSDTIVGLGKNPQTLKCSVAMTKNMA',\n",
       " 'LIDQYLYYLQKCINMSGQNQQTLGFVCIPENA',\n",
       " 'LIDCYNYSSKTIPGVGENQQAKFSVAMPSNMD',\n",
       " 'LIDQYLFYLSKTINGMNQNYQTLKFSVAGPVNMAE']"
      ]
     },
     "execution_count": 403,
     "metadata": {},
     "output_type": "execute_result"
    }
   ],
   "source": [
    "den.generate(2)"
   ]
  },
  {
   "cell_type": "code",
   "execution_count": null,
   "metadata": {},
   "outputs": [],
   "source": [
    "den.loss_terms"
   ]
  },
  {
   "cell_type": "code",
   "execution_count": 412,
   "metadata": {},
   "outputs": [
    {
     "data": {
      "text/plain": [
       "48872"
      ]
     },
     "execution_count": 412,
     "metadata": {},
     "output_type": "execute_result"
    }
   ],
   "source": [
    "den.i"
   ]
  },
  {
   "cell_type": "code",
   "execution_count": null,
   "metadata": {},
   "outputs": [],
   "source": []
  }
 ],
 "metadata": {
  "kernelspec": {
   "display_name": "Python 3",
   "language": "python",
   "name": "python3"
  },
  "language_info": {
   "codemirror_mode": {
    "name": "ipython",
    "version": 3
   },
   "file_extension": ".py",
   "mimetype": "text/x-python",
   "name": "python",
   "nbconvert_exporter": "python",
   "pygments_lexer": "ipython3",
   "version": "3.7.7"
  }
 },
 "nbformat": 4,
 "nbformat_minor": 4
}
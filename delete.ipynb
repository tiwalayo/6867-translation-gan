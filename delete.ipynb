{
 "cells": [
  {
   "cell_type": "code",
   "execution_count": 108,
   "metadata": {},
   "outputs": [
    {
     "name": "stdout",
     "output_type": "stream",
     "text": [
      "The autoreload extension is already loaded. To reload it, use:\n",
      "  %reload_ext autoreload\n"
     ]
    }
   ],
   "source": [
    "%load_ext autoreload\n",
    "%autoreload 2\n",
    "%aimport models\n",
    "\n",
    "import models\n",
    "from models import DEN\n",
    "\n",
    "import data_processors.utils\n",
    "from data_processors.data_ops import Alphabet\n",
    "\n",
    "\n",
    "import torch\n",
    "import matplotlib.pyplot as plt"
   ]
  },
  {
   "cell_type": "markdown",
   "metadata": {},
   "source": [
    "For our predictor, we'll load and use Farhan's RNN model. The one I'm loading was trained on tile 2, so it'll only be good for generating sequences with mutations within that tile."
   ]
  },
  {
   "cell_type": "code",
   "execution_count": 7,
   "metadata": {},
   "outputs": [],
   "source": [
    "predictor_model = 'RNNClassifier'\n",
    "saved_predictor = 'saved_ml_data/saved_models/rnn_classifier_1'\n",
    "rnn_model = models.model_catalog[predictor_model].load(saved_predictor)"
   ]
  },
  {
   "cell_type": "markdown",
   "metadata": {},
   "source": [
    "The model outputs tiles according to the slices we give it, so we need to take its output, splice it into the tile 2 that the RNN was trained on, and then pass it into the RNN:"
   ]
  },
  {
   "cell_type": "code",
   "execution_count": 420,
   "metadata": {},
   "outputs": [],
   "source": [
    "def splice_n_pred(seq):\n",
    "    INP = WILDTYPE_2[:8] + seq + WILDTYPE_2[42:]\n",
    "    inds = data_processors.utils.seq_to_ind(INP.replace('-', ''), Alphabet().chars) \n",
    "    return rnn_model.predict([inds]*2)[0]"
   ]
  },
  {
   "cell_type": "markdown",
   "metadata": {},
   "source": [
    "We save the wildtype sequence as a string. For comparisons later, I save WT tile 2 in a variable."
   ]
  },
  {
   "cell_type": "code",
   "execution_count": 416,
   "metadata": {},
   "outputs": [
    {
     "data": {
      "text/plain": [
       "'SLDRLMNPLIDQYLYYLSKTINGSGQNQQTLKFSVAGPSNMAVQGRNYIPGPSY'"
      ]
     },
     "execution_count": 416,
     "metadata": {},
     "output_type": "execute_result"
    }
   ],
   "source": [
    "WILDTYPE = \"MAADGYLPDWLEDNLSEGIREWWALKPGAPQPKANQQHQDNARGLVLPGYKYLGPGNGLDKGEPVNAADAAALEHDKAYDQQLKAGDNPYLKYNHADAEFQERLKEDTSFGGNLGRAVFQAKKRLLEPLGLVEEAAKTAPGKKRPVEQSPQEPDSSAGIGKSGAQPAKKRLNFGQTGDTESVPDPQPIGEPPAAPSGVGSLTMASGGGAPVADNNEGADGVGSSSGNWHCDSQWLGDRVITTSTRTWALPTYNNHLYKQISNSTSGGSSNDNAYFGYSTPWGYFDFNRFHCHFSPRDWQRLINNNWGFRPKRLNFKLFNIQVKEVTDNNGVKTIANNLTSTVQVFTDSDYQLPYVLGSAHEGCLPPFPADVFMIPQYGYLTLNDGSQAVGRSSFYCLEYFPSQMLRTGNNFQFSYEFENVPFHSSYAHSQSLDRLMNPLIDQYLYYLSKTINGSGQNQQTLKFSVAGPSNMAVQGRNYIPGPSYRQQRVSTTVTQNNNSEFAWPGASSWALNGRNSLMNPGPAMASHKEGEDRFFPLSGSLIFGKQGTGRDNVDADKVMITNEEEIKTTNPVATESYGQVATNHQSAQAQAQTGWVQNQGILPGMVWQDRDVYLQGPIWAKIPHTDGNFHPSPLMGGFGMKHPPPQILIKNTPVPADPPTAFNKDKLNSFITQYSTGQVSVEIEWELQKENSKRWNPEIQYTSNYYKSNNVEFAVNTEGVYSEPRPIGTRYLTRNL\"\n",
    "WILDTYPE_2 = WILDTYPE[430:430+54]\n",
    "WILDTYPE_2"
   ]
  },
  {
   "cell_type": "markdown",
   "metadata": {},
   "source": [
    "Now we initialize the DEN.\n",
    "\n",
    "I'm doing a batch size of 2 so that I can do VAEesque stuff later. Note that we use slice 438:472 as our \"tile 2\" because that was the L7 hackathon tile of interest. (Looking back, I probably should have given it a different tile number to avoid confusion.)\n",
    "\n",
    "I want the model to first learn what WT looks like before it starts learning more things, so I'm only going to make it care about the first and last terms of the objective (WT divergence and gap token loss). We can change coefficients later.\n",
    "\n",
    "It remains to be seen whether or not implementing `opts` as a dict was a good idea."
   ]
  },
  {
   "cell_type": "code",
   "execution_count": 248,
   "metadata": {},
   "outputs": [],
   "source": [
    "den = DEN.DEN(tile_scheme={2:(438, 472)},\n",
    "              batch_size=10, latent_size=2, intermediate_size=250, dropout=0.01,\n",
    "              predictor=splice_n_pred,\n",
    "              wt=WILDTYPE,\n",
    "              k=10,\n",
    "              opts={\"lr\": 0.0001,\n",
    "                    \"weights\": [1, 0, 0, 1]}\n",
    "             )"
   ]
  },
  {
   "cell_type": "markdown",
   "metadata": {},
   "source": [
    "Now we will put the DEN into training mode and save every term of the loss function in a list. We'll fill `hist` with such lists so we can look at progress after the fact. To do one backward pass, we simply execute `den.learn(2)`."
   ]
  },
  {
   "cell_type": "code",
   "execution_count": null,
   "metadata": {},
   "outputs": [],
   "source": [
    "hist = []\n",
    "den.train()\n",
    "for epoch in range(5):  # loop over the dataset multiple times\n",
    "    running_loss = 0.0\n",
    "    for i in range(6000):\n",
    "        den.learn(2)\n",
    "        running_loss += den.last_loss\n",
    "        hist.append([i.item() for i in den.loss_terms])\n",
    "        if i % 2000 == 1999:    # print every 2000 mini-batches\n",
    "            id = str(epoch+1)+\"-\"+str(i+1)+\"-\"+\"den.pth\"\n",
    "            #print('[%d, %5d] loss: %.3f' % (epoch + 1, i + 1, running_loss / 2000))\n",
    "            PATH = './saved_ml_data/saved_models/den_2/'+id\n",
    "            torch.save(den.state_dict(), PATH)\n",
    "            running_loss = 0.0"
   ]
  },
  {
   "cell_type": "markdown",
   "metadata": {},
   "source": [
    "Let's see how well it was able to learn wildtype:"
   ]
  },
  {
   "cell_type": "code",
   "execution_count": 419,
   "metadata": {},
   "outputs": [
    {
     "data": {
      "text/plain": [
       "[<matplotlib.lines.Line2D at 0x7f0327b30b10>]"
      ]
     },
     "execution_count": 419,
     "metadata": {},
     "output_type": "execute_result"
    },
    {
     "data": {
      "image/png": "[encoded data removed]",
      "text/plain": [
       "<Figure size 432x288 with 1 Axes>"
      ]
     },
     "metadata": {
      "needs_background": "light"
     },
     "output_type": "display_data"
    }
   ],
   "source": [
    "plt.plot([i[0] for i in hist0])"
   ]
  },
  {
   "cell_type": "markdown",
   "metadata": {},
   "source": [
    "How many backward passes was that?"
   ]
  },
  {
   "cell_type": "code",
   "execution_count": 422,
   "metadata": {},
   "outputs": [
    {
     "data": {
      "text/plain": [
       "5866"
      ]
     },
     "execution_count": 422,
     "metadata": {},
     "output_type": "execute_result"
    }
   ],
   "source": [
    "den.i"
   ]
  },
  {
   "cell_type": "markdown",
   "metadata": {},
   "source": [
    "5866 passes, according to `den.i` which increments after every `den.optimizer.step()`."
   ]
  },
  {
   "cell_type": "markdown",
   "metadata": {},
   "source": [
    "If you want to examine the loss terms from the last learning pass, you can use `den.loss_terms` or get the total, weight-adjusted loss with `den.last_loss`:"
   ]
  },
  {
   "cell_type": "code",
   "execution_count": 431,
   "metadata": {},
   "outputs": [
    {
     "data": {
      "text/plain": [
       "[tensor([-3.8528], grad_fn=<DivBackward0>),\n",
       " tensor([-5.2115], grad_fn=<DivBackward0>),\n",
       " tensor([-0.0978], grad_fn=<DivBackward0>),\n",
       " tensor([0.1500], grad_fn=<DivBackward0>)]"
      ]
     },
     "execution_count": 431,
     "metadata": {},
     "output_type": "execute_result"
    }
   ],
   "source": [
    "den.loss_terms"
   ]
  },
  {
   "cell_type": "code",
   "execution_count": 432,
   "metadata": {},
   "outputs": [
    {
     "data": {
      "text/plain": [
       "7.855692386627197"
      ]
     },
     "execution_count": 432,
     "metadata": {},
     "output_type": "execute_result"
    }
   ],
   "source": [
    "den.last_loss"
   ]
  },
  {
   "cell_type": "markdown",
   "metadata": {},
   "source": [
    "Now let's optimize on the basis of diversity and fitness as well:"
   ]
  },
  {
   "cell_type": "code",
   "execution_count": 435,
   "metadata": {},
   "outputs": [],
   "source": [
    "den.weights = [1, 1, 3, 1]"
   ]
  },
  {
   "cell_type": "markdown",
   "metadata": {},
   "source": [
    "(FYI, you can change essentially anything without breaking the model:)"
   ]
  },
  {
   "cell_type": "code",
   "execution_count": null,
   "metadata": {},
   "outputs": [],
   "source": [
    "den.optimizer = torch.optim.Adam(den.parameters(), lr=0.0001)\n",
    "den.dropout = torch.nn.Dropout(p=0.015)\n",
    "den.k = 7"
   ]
  },
  {
   "cell_type": "code",
   "execution_count": null,
   "metadata": {},
   "outputs": [],
   "source": [
    "hist0 = hist.copy()\n",
    "hist = []\n",
    "den.train()\n",
    "for epoch in range(5):  # loop over the dataset multiple times\n",
    "    running_loss = 0.0\n",
    "    for i in range(6000):\n",
    "        den.learn(2)\n",
    "        running_loss += den.last_loss\n",
    "        hist.append([i.item() for i in den.loss_terms])\n",
    "        if i % 2000 == 1999:    # print every 2000 mini-batches\n",
    "            id = str(epoch+1)+\"-\"+str(i+1)+\"-\"+\"den.pth\"\n",
    "            #print('[%d, %5d] loss: %.3f' % (epoch + 1, i + 1, running_loss / 2000))\n",
    "            PATH = './saved_ml_data/saved_models/den_2/'+id\n",
    "            torch.save(den.state_dict(), PATH)\n",
    "            running_loss = 0.0"
   ]
  },
  {
   "cell_type": "markdown",
   "metadata": {},
   "source": [
    "Now let's enter evaluation mode and generate some sequences:"
   ]
  },
  {
   "cell_type": "code",
   "execution_count": 445,
   "metadata": {},
   "outputs": [
    {
     "data": {
      "text/plain": [
       "['LIDQYYYTLSKTCNGSGQNNETLKNSVAGPSNMYD',\n",
       " 'LLDQYLYYLMKTQNGSEANQQTTKLSCAKPSEMAR',\n",
       " 'NIDQCLYTLSKTINGYGQNPQMLFSVMGPSNMAE',\n",
       " 'EIDQYLYGLSKTIMIEGQNQQWVFFSVAGNSFMNG',\n",
       " 'LIYQYLTYLEKTINWDGQNQQTLVFSVAGVHNIAN',\n",
       " 'RIWQFKYLEKTINGSGQAQTLKFILAAPHNMA',\n",
       " 'YVDQYLYHLSKTRYGSGQNQSTLQFSEAGPSNMH',\n",
       " 'LIDEYLYYFSKTINGSGYNQQTFKFSVGGPRNQCE',\n",
       " 'LIDQILQYDSKTRNGSGYLQRTLKFSVAGPHNMW',\n",
       " 'LIDQYWYICSKTINGSGQNEQTLKWSVAGPSNMA']"
      ]
     },
     "execution_count": 445,
     "metadata": {},
     "output_type": "execute_result"
    }
   ],
   "source": [
    "den.eval()\n",
    "den.generate(2)"
   ]
  },
  {
   "cell_type": "markdown",
   "metadata": {},
   "source": [
    "We may also want to filter results based on edit distance and fitness:"
   ]
  },
  {
   "cell_type": "code",
   "execution_count": 443,
   "metadata": {},
   "outputs": [
    {
     "data": {
      "text/plain": [
       "18"
      ]
     },
     "execution_count": 443,
     "metadata": {},
     "output_type": "execute_result"
    }
   ],
   "source": [
    "import editdistance\n",
    "editdistance.eval('WITVLLYYLSSLRNGSGQRQQTVEFWVAGPENMQ-',\n",
    " 'RPDWNTYYLSKTINHSGQNQLTLMDAVAGPSYMQ-') # random example"
   ]
  },
  {
   "cell_type": "code",
   "execution_count": 449,
   "metadata": {},
   "outputs": [
    {
     "data": {
      "text/plain": [
       "0.949479877948761"
      ]
     },
     "execution_count": 449,
     "metadata": {},
     "output_type": "execute_result"
    }
   ],
   "source": [
    "WTL7T1 = 'LIDQYLYYLSKTINGSGQNQQTLKFSVAGPSNMA' #the wildtype slice corresponding to the tile we trained the DEN on\n",
    "den.predictor(WTL7T1) # equivalent to splice_n_pred(WTL7T1)"
   ]
  },
  {
   "cell_type": "markdown",
   "metadata": {},
   "source": [
    "Here we take sequences with mid-to-high packaging probability and some small distance from wildtype:"
   ]
  },
  {
   "cell_type": "code",
   "execution_count": 454,
   "metadata": {},
   "outputs": [
    {
     "name": "stdout",
     "output_type": "stream",
     "text": [
      "LIDQYLYYLSITNNMSGQQQTLKFSVAGPQMMA 0.8870390057563782 6\n",
      "LTDQFLYYLSKTINHSNQNCQTLKFSVAGGSNMC 0.7376419901847839 7\n",
      "LICQYLYCTSKTINGSGQNPEVLKFSAGPSNMW 0.7086784243583679 8\n",
      "LIDQYLYYLGKKSAWSGQNQQTLKFSVAGPRMA 0.8530867099761963 7\n",
      "LIDQYLYYLDMTINGSPKNQQTLKFSVAGPSNMA 0.8468514084815979 4\n",
      "LIDQYLYYLSKTINGSGQVAWTLKFSVTGPSNMA 0.8744310140609741 4\n",
      "LIDQYLYYLSDTINGSGQNQQNFRFSVAGPYNMA 0.7073195576667786 5\n",
      "LIDQYLYYVSKTINGTSQNQQHLKWSVAGPSNMA 0.7079670429229736 5\n",
      "LCDQYLYYLSKTITGSGQNQQTLKVSRAGPSNMY 0.6195773482322693 5\n",
      "LIDQYLYFLSMTHGSGQNQQTLKFSVAGPSNMA 0.8281866908073425 4\n",
      "LIDQYLYYLSNTNNWGQLQQKLKFSVAGPLMA 0.6773170828819275 8\n",
      "LIDQYLYYISKTLNGSGQVVPTTKFSVAPHNMA 0.9078422784805298 8\n",
      "LIDQYLYILAKTNGHGQQQQTLKFSVIGPSNMA 0.828584611415863 6\n",
      "LLAQYLYYLSKTINGAGQNLQKAKFSVAGPTNMA 0.8921305537223816 7\n",
      "LSDQYLYYFGKTMNDAGQNPQTLKFSVAGPSNMA 0.7618723511695862 7\n"
     ]
    }
   ],
   "source": [
    "rets = []\n",
    "for i in range(50):\n",
    "    x = den.generate(2)\n",
    "    u = [(s,den.predictor(s)) for s in x]\n",
    "    for s,ss in u:\n",
    "        d = editdistance.eval(s, WTL7T1)\n",
    "        if ss>.6 and d>3:\n",
    "            print(s, ss, editdistance.eval(s, WTL7T1))\n",
    "            rets.append(s)"
   ]
  },
  {
   "cell_type": "markdown",
   "metadata": {},
   "source": [
    "I'm trying to figure out if the model is doing better than a random generator. Part of this analysis will entail a comparison between the random mutation distribution and the DEN generation distribution, the latter of which we can generate as follows:"
   ]
  },
  {
   "cell_type": "code",
   "execution_count": 458,
   "metadata": {},
   "outputs": [
    {
     "data": {
      "text/plain": [
       "Text(0.5, 0, 'RNN fitness')"
      ]
     },
     "execution_count": 458,
     "metadata": {},
     "output_type": "execute_result"
    },
    {
     "data": {
      "image/png": "[encoded data removed]",
      "text/plain": [
       "<Figure size 432x288 with 1 Axes>"
      ]
     },
     "metadata": {
      "needs_background": "light"
     },
     "output_type": "display_data"
    }
   ],
   "source": [
    "import matplotlib.pyplot as plt\n",
    "import numpy as np\n",
    "%matplotlib inline\n",
    "x = []\n",
    "den.eval()\n",
    "N, threshold = 300, 0\n",
    "for i in range(N):\n",
    "    x += [splice_n_pred(u) for u in den.generate(2)]\n",
    "    x = [i for i in x if i > threshold]\n",
    "plt.hist(x, density=False)\n",
    "plt.ylabel('Count (out of '+str(N*den.batch_size)+')')\n",
    "plt.xlabel('RNN fitness')"
   ]
  },
  {
   "cell_type": "code",
   "execution_count": 459,
   "metadata": {},
   "outputs": [
    {
     "data": {
      "text/plain": [
       "Text(0.5, 0, 'RNN fitness')"
      ]
     },
     "execution_count": 459,
     "metadata": {},
     "output_type": "execute_result"
    },
    {
     "data": {
      "image/png": "[encoded data removed]",
      "text/plain": [
       "<Figure size 432x288 with 1 Axes>"
      ]
     },
     "metadata": {
      "needs_background": "light"
     },
     "output_type": "display_data"
    }
   ],
   "source": [
    "threshold = 0.5\n",
    "x = [i for i in x if i > threshold]\n",
    "plt.hist(x, density=False)\n",
    "plt.ylabel('Count (out of '+str(N*den.batch_size)+')')\n",
    "plt.xlabel('RNN fitness')"
   ]
  },
  {
   "cell_type": "code",
   "execution_count": null,
   "metadata": {},
   "outputs": [],
   "source": []
  }
 ],
 "metadata": {
  "kernelspec": {
   "display_name": "Python 3",
   "language": "python",
   "name": "python3"
  },
  "language_info": {
   "codemirror_mode": {
    "name": "ipython",
    "version": 3
   },
   "file_extension": ".py",
   "mimetype": "text/x-python",
   "name": "python",
   "nbconvert_exporter": "python",
   "pygments_lexer": "ipython3",
   "version": "3.7.8"
  }
 },
 "nbformat": 4,
 "nbformat_minor": 4
}
